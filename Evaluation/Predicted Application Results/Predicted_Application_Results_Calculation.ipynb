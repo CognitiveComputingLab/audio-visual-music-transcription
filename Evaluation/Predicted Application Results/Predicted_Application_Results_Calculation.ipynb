{
  "nbformat": 4,
  "nbformat_minor": 0,
  "metadata": {
    "colab": {
      "provenance": []
    },
    "kernelspec": {
      "name": "python3",
      "display_name": "Python 3"
    },
    "language_info": {
      "name": "python"
    }
  },
  "cells": [
    {
      "cell_type": "code",
      "execution_count": null,
      "metadata": {
        "colab": {
          "base_uri": "https://localhost:8080/"
        },
        "id": "a8KeQweU68PW",
        "outputId": "ab7a66bc-8dcc-4398-f002-69d9bcc85fd3"
      },
      "outputs": [
        {
          "output_type": "stream",
          "name": "stdout",
          "text": [
            "Drive already mounted at /content/drive; to attempt to forcibly remount, call drive.mount(\"/content/drive\", force_remount=True).\n",
            "Average Precision: 0.7968\n",
            "Average Recall: 0.8495\n",
            "Average F1 Score: 0.8207\n",
            "0.7641509433962265\n"
          ]
        }
      ],
      "source": [
        "# The keyboard is indentified in all cases\n",
        "# Add results from Audio-Visual Model V1, where scores are not less than 0.3\n",
        "# From inspection, these results line up with poorly recorded keyboards = poor key detection\n",
        "# Any low results between 0.3 and 0.5 are due to horizontally flipped videos\n",
        "\n",
        "# Harder to determine for MV2H\n",
        "\n",
        "# Calculate for OMAPS results\n",
        "\n",
        "# Import necessary libraries\n",
        "import os\n",
        "\n",
        "from google.colab import drive\n",
        "drive.mount('/content/drive')\n",
        "\n",
        "# Path to the text file containing the data\n",
        "file_path = '/content/drive/My Drive/Dissertation Code/OMAPS/evaluation/audio-visual-fusion-tuned/full_evaluation_results.txt'\n",
        "\n",
        "def read_and_average_scores(file_path):\n",
        "    precision_sum = 0\n",
        "    recall_sum = 0\n",
        "    f1_score_sum = 0\n",
        "    count = 0\n",
        "\n",
        "    with open(file_path, 'r') as file:\n",
        "        # Skip the header\n",
        "        next(file)\n",
        "        for line in file:\n",
        "            parts = line.strip().split(',')\n",
        "            if len(parts) == 4:\n",
        "                try:\n",
        "                    file_name = parts[0].strip()\n",
        "                    precision = float(parts[1].strip())\n",
        "                    recall = float(parts[2].strip())\n",
        "                    f1_score = float(parts[3].strip())\n",
        "\n",
        "                    # Check against the threashold of 0.3\n",
        "                    if precision > 0.3 and recall > 0.3 and f1_score > 0.3:\n",
        "                        precision_sum += precision\n",
        "                        recall_sum += recall\n",
        "                        f1_score_sum += f1_score\n",
        "                        count += 1\n",
        "                except ValueError:\n",
        "                    print(\"Skip\")\n",
        "            else:\n",
        "                print(\"File line error\")\n",
        "\n",
        "    # Calculate averages\n",
        "    if count > 0:\n",
        "        avg_precision = precision_sum / count\n",
        "        avg_recall = recall_sum / count\n",
        "        avg_f1_score = f1_score_sum / count\n",
        "        return avg_precision, avg_recall, avg_f1_score, count\n",
        "    else:\n",
        "        return None, None, None\n",
        "\n",
        "# Calculate averages\n",
        "avg_precision, avg_recall, avg_f1_score, count = read_and_average_scores(file_path)\n",
        "\n",
        "if avg_precision is not None:\n",
        "    print(f'Average Precision: {avg_precision:.4f}')\n",
        "    print(f'Average Recall: {avg_recall:.4f}')\n",
        "    print(f'Average F1 Score: {avg_f1_score:.4f}')\n",
        "    print(count/106)\n",
        "else:\n",
        "    print(\"No valid data found in the file.\")\n"
      ]
    },
    {
      "cell_type": "code",
      "source": [
        "# Calculate for OMAPS2\n",
        "# Path to the text file containing the data\n",
        "file_path = '/content/drive/My Drive/Dissertation Code/OMAPS2/evaluation/audio-visual-fusion-tuned/full_evaluation_results.txt'\n",
        "\n",
        "# Calculate averages\n",
        "avg_precision, avg_recall, avg_f1_score = read_and_average_scores(file_path)\n",
        "\n",
        "if avg_precision is not None:\n",
        "    print(f'Average Precision: {avg_precision:.4f}')\n",
        "    print(f'Average Recall: {avg_recall:.4f}')\n",
        "    print(f'Average F1 Score: {avg_f1_score:.4f}')\n",
        "else:\n",
        "    print(\"No valid data found in the file.\")"
      ],
      "metadata": {
        "colab": {
          "base_uri": "https://localhost:8080/"
        },
        "id": "2akh3lz4_0nw",
        "outputId": "5fd1cde1-fc2a-4f43-fdbf-417a6bf103c8"
      },
      "execution_count": null,
      "outputs": [
        {
          "output_type": "stream",
          "name": "stdout",
          "text": [
            "Average Precision: 0.8360\n",
            "Average Recall: 0.8829\n",
            "Average F1 Score: 0.8574\n"
          ]
        }
      ]
    },
    {
      "cell_type": "code",
      "source": [],
      "metadata": {
        "id": "6-5ZH2pt9Sza"
      },
      "execution_count": null,
      "outputs": []
    }
  ]
}