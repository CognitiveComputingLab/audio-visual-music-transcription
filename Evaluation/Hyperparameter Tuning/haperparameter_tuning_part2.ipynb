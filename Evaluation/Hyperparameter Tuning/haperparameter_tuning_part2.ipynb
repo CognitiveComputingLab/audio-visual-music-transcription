{
  "nbformat": 4,
  "nbformat_minor": 0,
  "metadata": {
    "colab": {
      "provenance": []
    },
    "kernelspec": {
      "name": "python3",
      "display_name": "Python 3"
    },
    "language_info": {
      "name": "python"
    }
  },
  "cells": [
    {
      "cell_type": "code",
      "execution_count": 8,
      "metadata": {
        "colab": {
          "base_uri": "https://localhost:8080/"
        },
        "id": "4Mzv3bQxeCyg",
        "outputId": "3c6d2d35-e9e2-42d5-9cf1-b748eed4bbff"
      },
      "outputs": [
        {
          "output_type": "stream",
          "name": "stdout",
          "text": [
            "Drive already mounted at /content/drive; to attempt to forcibly remount, call drive.mount(\"/content/drive\", force_remount=True).\n",
            "results_seg6_hop3.0.txt = 140.71 average\n",
            "results_seg6_hop4.5.txt = 134.92 average\n",
            "results_seg8_hop4.0.txt = 137.22 average\n",
            "results_seg8_hop6.0.txt = 134.30 average\n",
            "results_seg12_hop6.0.txt = 139.69 average\n",
            "results_seg12_hop9.0.txt = 136.38 average\n",
            "results_seg16_hop8.0.txt = 138.31 average\n",
            "results_seg16_hop12.0.txt = 133.81 average\n",
            "results_seg32_hop16.0.txt = 144.15 average\n",
            "results_seg32_hop24.0.txt = 138.31 average\n"
          ]
        }
      ],
      "source": [
        "import os\n",
        "\n",
        "from google.colab import drive\n",
        "drive.mount('/content/drive')\n",
        "\n",
        "directory_path = \"/content/drive/My Drive/Dissertation Code/OMAPS/evaluation/audio-visual-fusion-tuning-4\"\n",
        "\n",
        "def average_processing_time(file_path):\n",
        "    processing_times = []\n",
        "    with open(file_path, 'r') as file:\n",
        "        for line in file:\n",
        "            try:\n",
        "                # Find the processing time\n",
        "                time_str = line.split(\"seconds\")[0].split(\"=\")[-1].strip()\n",
        "                processing_times.append(float(time_str))\n",
        "            except ValueError:\n",
        "                print(\"Error\")\n",
        "                continue\n",
        "\n",
        "    # Find the average\n",
        "    if processing_times:\n",
        "        return sum(processing_times) / len(processing_times)\n",
        "    else:\n",
        "        return None\n",
        "\n",
        "for filename in os.listdir(directory_path):\n",
        "    if filename.endswith(\".txt\"):\n",
        "        file_path = os.path.join(directory_path, filename)\n",
        "        average_time = average_processing_time(file_path)\n",
        "        if average_time is not None:\n",
        "            print(f'{filename} = {average_time:.2f} average')\n",
        "        else:\n",
        "            print(\"Error\")\n"
      ]
    },
    {
      "cell_type": "code",
      "source": [
        "directory_path = \"/content/drive/My Drive/Dissertation Code/OMAPS/evaluation/audio-visual-fusion-tuning-3\"\n",
        "\n",
        "def average_processing_time(file_path):\n",
        "    processing_times = []\n",
        "    with open(file_path, 'r') as file:\n",
        "        for line in file:\n",
        "            try:\n",
        "                # Find the processing time\n",
        "                time_str = line.split(\"seconds\")[0].split(\"=\")[-1].strip()\n",
        "                processing_times.append(float(time_str))\n",
        "            except ValueError:\n",
        "                print(\"Error\")\n",
        "                continue\n",
        "\n",
        "    # Find the average\n",
        "    if processing_times:\n",
        "        return sum(processing_times) / len(processing_times)\n",
        "    else:\n",
        "        return None\n",
        "\n",
        "for filename in os.listdir(directory_path):\n",
        "    if filename.endswith(\".txt\"):\n",
        "        file_path = os.path.join(directory_path, filename)\n",
        "        average_time = average_processing_time(file_path)\n",
        "        if average_time is not None:\n",
        "            print(f'{filename} = {average_time:.2f} average')\n",
        "        else:\n",
        "            print(\"Error\")"
      ],
      "metadata": {
        "colab": {
          "base_uri": "https://localhost:8080/"
        },
        "id": "7AlkRE_R5BBc",
        "outputId": "53b7e8d4-ab45-4404-f392-2e48e20c147f"
      },
      "execution_count": 9,
      "outputs": [
        {
          "output_type": "stream",
          "name": "stdout",
          "text": [
            "results_seg4_hop2.txt = 108.22 average\n",
            "results_seg4_hop4.txt = 128.83 average\n",
            "results_seg6_hop2.txt = 134.80 average\n",
            "results_seg6_hop4.txt = 130.85 average\n",
            "results_seg8_hop2.txt = 141.94 average\n",
            "results_seg8_hop4.txt = 134.63 average\n",
            "results_seg12_hop2.txt = 155.31 average\n",
            "results_seg12_hop4.txt = 139.80 average\n",
            "results_seg16_hop2.txt = 174.48 average\n",
            "results_seg16_hop4.txt = 148.78 average\n",
            "results_seg32_hop2.txt = 292.98 average\n",
            "results_seg32_hop4.txt = 207.48 average\n"
          ]
        }
      ]
    },
    {
      "cell_type": "code",
      "source": [
        "directory_path = \"/content/drive/My Drive/Dissertation Code/OMAPS/evaluation/audio-visual-fusion-tuning-4\"\n",
        "\n",
        "def average_processing_time(file_path):\n",
        "    processing_times = []\n",
        "    with open(file_path, 'r') as file:\n",
        "        for line in file:\n",
        "            try:\n",
        "                # Find the processing time\n",
        "                score_str = line.split(\",\")[0].split(\"=\")[1].strip()\n",
        "                processing_times.append(float(score_str))\n",
        "            except ValueError:\n",
        "                print(\"Error\")\n",
        "                continue\n",
        "\n",
        "    # Find the average\n",
        "    if processing_times:\n",
        "        return sum(processing_times) / len(processing_times)\n",
        "    else:\n",
        "        return None\n",
        "\n",
        "for filename in os.listdir(directory_path):\n",
        "    if filename.endswith(\".txt\"):\n",
        "        file_path = os.path.join(directory_path, filename)\n",
        "        average_time = average_processing_time(file_path)\n",
        "        if average_time is not None:\n",
        "            print(f'{filename} = {average_time:.2f} average')\n",
        "        else:\n",
        "            print(\"Error\")\n"
      ],
      "metadata": {
        "colab": {
          "base_uri": "https://localhost:8080/"
        },
        "id": "R5ASz8tWeyVg",
        "outputId": "afe4bf60-c5c0-4d62-afc4-249f2da87148"
      },
      "execution_count": 12,
      "outputs": [
        {
          "output_type": "stream",
          "name": "stdout",
          "text": [
            "results_seg6_hop3.0.txt = 0.80 average\n",
            "results_seg6_hop4.5.txt = 0.80 average\n",
            "results_seg8_hop4.0.txt = 0.80 average\n",
            "results_seg8_hop6.0.txt = 0.81 average\n",
            "results_seg12_hop6.0.txt = 0.81 average\n",
            "results_seg12_hop9.0.txt = 0.81 average\n",
            "results_seg16_hop8.0.txt = 0.82 average\n",
            "results_seg16_hop12.0.txt = 0.81 average\n",
            "results_seg32_hop16.0.txt = 0.82 average\n",
            "results_seg32_hop24.0.txt = 0.82 average\n"
          ]
        }
      ]
    },
    {
      "cell_type": "code",
      "source": [
        "directory_path = \"/content/drive/My Drive/Dissertation Code/OMAPS/evaluation/audio-visual-fusion-tuning-3\"\n",
        "\n",
        "def average_processing_time(file_path):\n",
        "    processing_times = []\n",
        "    with open(file_path, 'r') as file:\n",
        "        for line in file:\n",
        "            try:\n",
        "                # Find the processing time\n",
        "                score_str = line.split(\",\")[0].split(\"=\")[1].strip()\n",
        "                processing_times.append(float(score_str))\n",
        "            except ValueError:\n",
        "                print(\"Error\")\n",
        "                continue\n",
        "\n",
        "    # Find the average\n",
        "    if processing_times:\n",
        "        return sum(processing_times) / len(processing_times)\n",
        "    else:\n",
        "        return None\n",
        "\n",
        "for filename in os.listdir(directory_path):\n",
        "    if filename.endswith(\".txt\"):\n",
        "        file_path = os.path.join(directory_path, filename)\n",
        "        average_time = average_processing_time(file_path)\n",
        "        if average_time is not None:\n",
        "            print(f'{filename} = {average_time:.2f} average')\n",
        "        else:\n",
        "            print(\"Error\")\n"
      ],
      "metadata": {
        "colab": {
          "base_uri": "https://localhost:8080/"
        },
        "id": "I1KIOj7hgHFs",
        "outputId": "f4a0aa27-268c-40c1-a79e-d5ef8af3913b"
      },
      "execution_count": 13,
      "outputs": [
        {
          "output_type": "stream",
          "name": "stdout",
          "text": [
            "results_seg4_hop2.txt = 0.82 average\n",
            "results_seg4_hop4.txt = 0.77 average\n",
            "results_seg6_hop2.txt = 0.69 average\n",
            "results_seg6_hop4.txt = 0.81 average\n",
            "results_seg8_hop2.txt = 0.62 average\n",
            "results_seg8_hop4.txt = 0.80 average\n",
            "results_seg12_hop2.txt = 0.49 average\n",
            "results_seg12_hop4.txt = 0.71 average\n",
            "results_seg16_hop2.txt = 0.40 average\n",
            "results_seg16_hop4.txt = 0.63 average\n",
            "results_seg32_hop2.txt = 0.23 average\n",
            "results_seg32_hop4.txt = 0.42 average\n"
          ]
        }
      ]
    }
  ]
}