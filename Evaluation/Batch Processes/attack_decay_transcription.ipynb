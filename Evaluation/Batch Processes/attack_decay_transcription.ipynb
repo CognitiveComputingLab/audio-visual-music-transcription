{
  "cells": [
    {
      "cell_type": "code",
      "execution_count": null,
      "metadata": {
        "colab": {
          "base_uri": "https://localhost:8080/"
        },
        "id": "N1ZKEI042el3",
        "outputId": "b6fad3c3-2bad-4981-8a7f-ab9fe6c45ba7"
      },
      "outputs": [
        {
          "name": "stdout",
          "output_type": "stream",
          "text": [
            "Drive already mounted at /content/drive; to attempt to forcibly remount, call drive.mount(\"/content/drive\", force_remount=True).\n",
            "Cloning into 'modelAttackDecay-for-piano-transcription'...\n",
            "remote: Enumerating objects: 81, done.\u001b[K\n",
            "remote: Total 81 (delta 0), reused 0 (delta 0), pack-reused 81\u001b[K\n",
            "Receiving objects: 100% (81/81), 7.29 MiB | 20.80 MiB/s, done.\n",
            "Resolving deltas: 100% (25/25), done.\n"
          ]
        }
      ],
      "source": [
        "from google.colab import drive\n",
        "drive.mount('/content/drive')\n",
        "\n",
        "!git clone https://github.com/beiciliang/modelAttackDecay-for-piano-transcription.git"
      ]
    },
    {
      "cell_type": "code",
      "execution_count": null,
      "metadata": {
        "colab": {
          "base_uri": "https://localhost:8080/"
        },
        "id": "BG7PWfa8txFB",
        "outputId": "828bb93d-b154-402c-a744-00749e13a0c7"
      },
      "outputs": [
        {
          "name": "stdout",
          "output_type": "stream",
          "text": [
            "/content/modelAttackDecay-for-piano-transcription/modelAttackDecay-for-piano-transcription\n",
            "Requirement already satisfied: librosa>=0.5.1 in /usr/local/lib/python3.10/dist-packages (from -r requirements.txt (line 1)) (0.10.1)\n",
            "Requirement already satisfied: scipy>=0.19.1 in /usr/local/lib/python3.10/dist-packages (from -r requirements.txt (line 2)) (1.11.4)\n",
            "Requirement already satisfied: numpy>=1.13.1 in /usr/local/lib/python3.10/dist-packages (from -r requirements.txt (line 3)) (1.25.2)\n",
            "Requirement already satisfied: matplotlib>=2.1.0 in /usr/local/lib/python3.10/dist-packages (from -r requirements.txt (line 4)) (3.7.1)\n",
            "Requirement already satisfied: tqdm>=4.19.5 in /usr/local/lib/python3.10/dist-packages (from -r requirements.txt (line 5)) (4.66.2)\n",
            "Requirement already satisfied: audioread>=2.1.9 in /usr/local/lib/python3.10/dist-packages (from librosa>=0.5.1->-r requirements.txt (line 1)) (3.0.1)\n",
            "Requirement already satisfied: scikit-learn>=0.20.0 in /usr/local/lib/python3.10/dist-packages (from librosa>=0.5.1->-r requirements.txt (line 1)) (1.2.2)\n",
            "Requirement already satisfied: joblib>=0.14 in /usr/local/lib/python3.10/dist-packages (from librosa>=0.5.1->-r requirements.txt (line 1)) (1.4.0)\n",
            "Requirement already satisfied: decorator>=4.3.0 in /usr/local/lib/python3.10/dist-packages (from librosa>=0.5.1->-r requirements.txt (line 1)) (4.4.2)\n",
            "Requirement already satisfied: numba>=0.51.0 in /usr/local/lib/python3.10/dist-packages (from librosa>=0.5.1->-r requirements.txt (line 1)) (0.58.1)\n",
            "Requirement already satisfied: soundfile>=0.12.1 in /usr/local/lib/python3.10/dist-packages (from librosa>=0.5.1->-r requirements.txt (line 1)) (0.12.1)\n",
            "Requirement already satisfied: pooch>=1.0 in /usr/local/lib/python3.10/dist-packages (from librosa>=0.5.1->-r requirements.txt (line 1)) (1.8.1)\n",
            "Requirement already satisfied: soxr>=0.3.2 in /usr/local/lib/python3.10/dist-packages (from librosa>=0.5.1->-r requirements.txt (line 1)) (0.3.7)\n",
            "Requirement already satisfied: typing-extensions>=4.1.1 in /usr/local/lib/python3.10/dist-packages (from librosa>=0.5.1->-r requirements.txt (line 1)) (4.11.0)\n",
            "Requirement already satisfied: lazy-loader>=0.1 in /usr/local/lib/python3.10/dist-packages (from librosa>=0.5.1->-r requirements.txt (line 1)) (0.4)\n",
            "Requirement already satisfied: msgpack>=1.0 in /usr/local/lib/python3.10/dist-packages (from librosa>=0.5.1->-r requirements.txt (line 1)) (1.0.8)\n",
            "Requirement already satisfied: contourpy>=1.0.1 in /usr/local/lib/python3.10/dist-packages (from matplotlib>=2.1.0->-r requirements.txt (line 4)) (1.2.1)\n",
            "Requirement already satisfied: cycler>=0.10 in /usr/local/lib/python3.10/dist-packages (from matplotlib>=2.1.0->-r requirements.txt (line 4)) (0.12.1)\n",
            "Requirement already satisfied: fonttools>=4.22.0 in /usr/local/lib/python3.10/dist-packages (from matplotlib>=2.1.0->-r requirements.txt (line 4)) (4.51.0)\n",
            "Requirement already satisfied: kiwisolver>=1.0.1 in /usr/local/lib/python3.10/dist-packages (from matplotlib>=2.1.0->-r requirements.txt (line 4)) (1.4.5)\n",
            "Requirement already satisfied: packaging>=20.0 in /usr/local/lib/python3.10/dist-packages (from matplotlib>=2.1.0->-r requirements.txt (line 4)) (24.0)\n",
            "Requirement already satisfied: pillow>=6.2.0 in /usr/local/lib/python3.10/dist-packages (from matplotlib>=2.1.0->-r requirements.txt (line 4)) (9.4.0)\n",
            "Requirement already satisfied: pyparsing>=2.3.1 in /usr/local/lib/python3.10/dist-packages (from matplotlib>=2.1.0->-r requirements.txt (line 4)) (3.1.2)\n",
            "Requirement already satisfied: python-dateutil>=2.7 in /usr/local/lib/python3.10/dist-packages (from matplotlib>=2.1.0->-r requirements.txt (line 4)) (2.8.2)\n",
            "Requirement already satisfied: llvmlite<0.42,>=0.41.0dev0 in /usr/local/lib/python3.10/dist-packages (from numba>=0.51.0->librosa>=0.5.1->-r requirements.txt (line 1)) (0.41.1)\n",
            "Requirement already satisfied: platformdirs>=2.5.0 in /usr/local/lib/python3.10/dist-packages (from pooch>=1.0->librosa>=0.5.1->-r requirements.txt (line 1)) (4.2.0)\n",
            "Requirement already satisfied: requests>=2.19.0 in /usr/local/lib/python3.10/dist-packages (from pooch>=1.0->librosa>=0.5.1->-r requirements.txt (line 1)) (2.31.0)\n",
            "Requirement already satisfied: six>=1.5 in /usr/local/lib/python3.10/dist-packages (from python-dateutil>=2.7->matplotlib>=2.1.0->-r requirements.txt (line 4)) (1.16.0)\n",
            "Requirement already satisfied: threadpoolctl>=2.0.0 in /usr/local/lib/python3.10/dist-packages (from scikit-learn>=0.20.0->librosa>=0.5.1->-r requirements.txt (line 1)) (3.4.0)\n",
            "Requirement already satisfied: cffi>=1.0 in /usr/local/lib/python3.10/dist-packages (from soundfile>=0.12.1->librosa>=0.5.1->-r requirements.txt (line 1)) (1.16.0)\n",
            "Requirement already satisfied: pycparser in /usr/local/lib/python3.10/dist-packages (from cffi>=1.0->soundfile>=0.12.1->librosa>=0.5.1->-r requirements.txt (line 1)) (2.22)\n",
            "Requirement already satisfied: charset-normalizer<4,>=2 in /usr/local/lib/python3.10/dist-packages (from requests>=2.19.0->pooch>=1.0->librosa>=0.5.1->-r requirements.txt (line 1)) (3.3.2)\n",
            "Requirement already satisfied: idna<4,>=2.5 in /usr/local/lib/python3.10/dist-packages (from requests>=2.19.0->pooch>=1.0->librosa>=0.5.1->-r requirements.txt (line 1)) (3.7)\n",
            "Requirement already satisfied: urllib3<3,>=1.21.1 in /usr/local/lib/python3.10/dist-packages (from requests>=2.19.0->pooch>=1.0->librosa>=0.5.1->-r requirements.txt (line 1)) (2.0.7)\n",
            "Requirement already satisfied: certifi>=2017.4.17 in /usr/local/lib/python3.10/dist-packages (from requests>=2.19.0->pooch>=1.0->librosa>=0.5.1->-r requirements.txt (line 1)) (2024.2.2)\n"
          ]
        }
      ],
      "source": [
        "import subprocess\n",
        "import os\n",
        "\n",
        "%cd modelAttackDecay-for-piano-transcription/\n",
        "!pip install -r requirements.txt"
      ]
    },
    {
      "cell_type": "code",
      "execution_count": null,
      "metadata": {
        "colab": {
          "base_uri": "https://localhost:8080/"
        },
        "id": "r2Af8hReAvTY",
        "outputId": "53fe998f-ad92-4485-a7eb-51240efe824e"
      },
      "outputs": [
        {
          "name": "stdout",
          "output_type": "stream",
          "text": [
            "/content/modelAttackDecay-for-piano-transcription/modelAttackDecay-for-piano-transcription/train-template.py:84: DeprecationWarning: Importing hamming from 'scipy.signal' is deprecated and will raise an error in SciPy 1.13.0. Please use 'scipy.signal.windows.hamming' or the convenience function 'scipy.signal.get_window' instead.\n",
            "  window = hamming(4096)\n",
            "/content/modelAttackDecay-for-piano-transcription/modelAttackDecay-for-piano-transcription/train-template.py:130: DeprecationWarning: The truth value of an empty array is ambiguous. Returning False, but in future this will result in an error. Use `array.size > 0` to check that an array is not empty.\n",
            "  if templates != []:\n",
            "/content/modelAttackDecay-for-piano-transcription/modelAttackDecay-for-piano-transcription/train-template.py:84: DeprecationWarning: Importing hamming from 'scipy.signal' is deprecated and will raise an error in SciPy 1.13.0. Please use 'scipy.signal.windows.hamming' or the convenience function 'scipy.signal.get_window' instead.\n",
            "  window = hamming(4096)\n",
            "Training templates: 100% 25/25 [01:03<00:00,  2.53s/it]\n",
            "Finished templates training from 25 isolated notes!\n"
          ]
        }
      ],
      "source": [
        "!python train-template.py"
      ]
    },
    {
      "cell_type": "code",
      "execution_count": null,
      "metadata": {
        "colab": {
          "base_uri": "https://localhost:8080/"
        },
        "id": "k117OFIqEjCo",
        "outputId": "73eda294-7e45-4726-8a14-7786db3cc249"
      },
      "outputs": [
        {
          "name": "stdout",
          "output_type": "stream",
          "text": [
            "Current Working Directory: /content/modelAttackDecay-for-piano-transcription/modelAttackDecay-for-piano-transcription\n"
          ]
        }
      ],
      "source": [
        "import os\n",
        "current_directory = os.getcwd()\n",
        "print(\"Current Working Directory:\", current_directory)"
      ]
    },
    {
      "cell_type": "code",
      "execution_count": null,
      "metadata": {
        "colab": {
          "background_save": true,
          "base_uri": "https://localhost:8080/"
        },
        "id": "zUfV5sFtt-iT",
        "outputId": "b3abaea4-d44c-40b9-ce2b-6281cd84a9cc"
      },
      "outputs": [
        {
          "name": "stdout",
          "output_type": "stream",
          "text": [
            "Processing ../../drive/MyDrive/Dissertation Code/OMAPS/complete/wav_converted/001.wav...\n",
            "Successfully transcribed: 001.wav\n",
            "Processing ../../drive/MyDrive/Dissertation Code/OMAPS/complete/wav_converted/002.wav...\n",
            "Successfully transcribed: 002.wav\n",
            "Processing ../../drive/MyDrive/Dissertation Code/OMAPS/complete/wav_converted/004.wav...\n",
            "Successfully transcribed: 004.wav\n",
            "Processing ../../drive/MyDrive/Dissertation Code/OMAPS/complete/wav_converted/003.wav...\n",
            "Successfully transcribed: 003.wav\n",
            "Processing ../../drive/MyDrive/Dissertation Code/OMAPS/complete/wav_converted/005.wav...\n",
            "Successfully transcribed: 005.wav\n",
            "Processing ../../drive/MyDrive/Dissertation Code/OMAPS/complete/wav_converted/006.wav...\n",
            "Successfully transcribed: 006.wav\n",
            "Processing ../../drive/MyDrive/Dissertation Code/OMAPS/complete/wav_converted/007.wav...\n",
            "Successfully transcribed: 007.wav\n",
            "Processing ../../drive/MyDrive/Dissertation Code/OMAPS/complete/wav_converted/008.wav...\n",
            "Successfully transcribed: 008.wav\n",
            "Processing ../../drive/MyDrive/Dissertation Code/OMAPS/complete/wav_converted/009.wav...\n",
            "Successfully transcribed: 009.wav\n",
            "Processing ../../drive/MyDrive/Dissertation Code/OMAPS/complete/wav_converted/011.wav...\n",
            "Successfully transcribed: 011.wav\n",
            "Processing ../../drive/MyDrive/Dissertation Code/OMAPS/complete/wav_converted/010.wav...\n",
            "Successfully transcribed: 010.wav\n",
            "Processing ../../drive/MyDrive/Dissertation Code/OMAPS/complete/wav_converted/012.wav...\n",
            "Successfully transcribed: 012.wav\n",
            "Processing ../../drive/MyDrive/Dissertation Code/OMAPS/complete/wav_converted/013.wav...\n",
            "Successfully transcribed: 013.wav\n",
            "Processing ../../drive/MyDrive/Dissertation Code/OMAPS/complete/wav_converted/014.wav...\n",
            "Successfully transcribed: 014.wav\n",
            "Processing ../../drive/MyDrive/Dissertation Code/OMAPS/complete/wav_converted/015.wav...\n",
            "Successfully transcribed: 015.wav\n",
            "Processing ../../drive/MyDrive/Dissertation Code/OMAPS/complete/wav_converted/016.wav...\n",
            "Successfully transcribed: 016.wav\n",
            "Processing ../../drive/MyDrive/Dissertation Code/OMAPS/complete/wav_converted/018.wav...\n",
            "Successfully transcribed: 018.wav\n",
            "Processing ../../drive/MyDrive/Dissertation Code/OMAPS/complete/wav_converted/017.wav...\n",
            "Successfully transcribed: 017.wav\n",
            "Processing ../../drive/MyDrive/Dissertation Code/OMAPS/complete/wav_converted/019.wav...\n",
            "Successfully transcribed: 019.wav\n",
            "Processing ../../drive/MyDrive/Dissertation Code/OMAPS/complete/wav_converted/021.wav...\n",
            "Successfully transcribed: 021.wav\n",
            "Processing ../../drive/MyDrive/Dissertation Code/OMAPS/complete/wav_converted/020.wav...\n",
            "Successfully transcribed: 020.wav\n",
            "Processing ../../drive/MyDrive/Dissertation Code/OMAPS/complete/wav_converted/022.wav...\n",
            "Successfully transcribed: 022.wav\n",
            "Processing ../../drive/MyDrive/Dissertation Code/OMAPS/complete/wav_converted/023.wav...\n",
            "Successfully transcribed: 023.wav\n",
            "Processing ../../drive/MyDrive/Dissertation Code/OMAPS/complete/wav_converted/024.wav...\n",
            "Successfully transcribed: 024.wav\n",
            "Processing ../../drive/MyDrive/Dissertation Code/OMAPS/complete/wav_converted/025.wav...\n",
            "Successfully transcribed: 025.wav\n",
            "Processing ../../drive/MyDrive/Dissertation Code/OMAPS/complete/wav_converted/026.wav...\n",
            "Successfully transcribed: 026.wav\n",
            "Processing ../../drive/MyDrive/Dissertation Code/OMAPS/complete/wav_converted/027.wav...\n",
            "Successfully transcribed: 027.wav\n",
            "Processing ../../drive/MyDrive/Dissertation Code/OMAPS/complete/wav_converted/028.wav...\n",
            "Successfully transcribed: 028.wav\n",
            "Processing ../../drive/MyDrive/Dissertation Code/OMAPS/complete/wav_converted/029.wav...\n",
            "Successfully transcribed: 029.wav\n",
            "Processing ../../drive/MyDrive/Dissertation Code/OMAPS/complete/wav_converted/030.wav...\n",
            "Successfully transcribed: 030.wav\n",
            "Processing ../../drive/MyDrive/Dissertation Code/OMAPS/complete/wav_converted/031.wav...\n",
            "Successfully transcribed: 031.wav\n",
            "Processing ../../drive/MyDrive/Dissertation Code/OMAPS/complete/wav_converted/032.wav...\n",
            "Successfully transcribed: 032.wav\n",
            "Processing ../../drive/MyDrive/Dissertation Code/OMAPS/complete/wav_converted/033.wav...\n",
            "Successfully transcribed: 033.wav\n",
            "Processing ../../drive/MyDrive/Dissertation Code/OMAPS/complete/wav_converted/034.wav...\n",
            "Successfully transcribed: 034.wav\n",
            "Processing ../../drive/MyDrive/Dissertation Code/OMAPS/complete/wav_converted/036.wav...\n",
            "Successfully transcribed: 036.wav\n",
            "Processing ../../drive/MyDrive/Dissertation Code/OMAPS/complete/wav_converted/035.wav...\n",
            "Successfully transcribed: 035.wav\n",
            "Processing ../../drive/MyDrive/Dissertation Code/OMAPS/complete/wav_converted/037.wav...\n",
            "Successfully transcribed: 037.wav\n",
            "Processing ../../drive/MyDrive/Dissertation Code/OMAPS/complete/wav_converted/038.wav...\n",
            "Successfully transcribed: 038.wav\n",
            "Processing ../../drive/MyDrive/Dissertation Code/OMAPS/complete/wav_converted/039.wav...\n",
            "Successfully transcribed: 039.wav\n",
            "Processing ../../drive/MyDrive/Dissertation Code/OMAPS/complete/wav_converted/040.wav...\n",
            "Successfully transcribed: 040.wav\n",
            "Processing ../../drive/MyDrive/Dissertation Code/OMAPS/complete/wav_converted/041.wav...\n",
            "Successfully transcribed: 041.wav\n",
            "Processing ../../drive/MyDrive/Dissertation Code/OMAPS/complete/wav_converted/042.wav...\n",
            "Successfully transcribed: 042.wav\n",
            "Processing ../../drive/MyDrive/Dissertation Code/OMAPS/complete/wav_converted/043.wav...\n",
            "Successfully transcribed: 043.wav\n",
            "Processing ../../drive/MyDrive/Dissertation Code/OMAPS/complete/wav_converted/044.wav...\n",
            "Successfully transcribed: 044.wav\n",
            "Processing ../../drive/MyDrive/Dissertation Code/OMAPS/complete/wav_converted/045.wav...\n",
            "Successfully transcribed: 045.wav\n",
            "Processing ../../drive/MyDrive/Dissertation Code/OMAPS/complete/wav_converted/046.wav...\n",
            "Successfully transcribed: 046.wav\n",
            "Processing ../../drive/MyDrive/Dissertation Code/OMAPS/complete/wav_converted/047.wav...\n",
            "Successfully transcribed: 047.wav\n",
            "Processing ../../drive/MyDrive/Dissertation Code/OMAPS/complete/wav_converted/049.wav...\n",
            "Successfully transcribed: 049.wav\n",
            "Processing ../../drive/MyDrive/Dissertation Code/OMAPS/complete/wav_converted/048.wav...\n",
            "Successfully transcribed: 048.wav\n",
            "Processing ../../drive/MyDrive/Dissertation Code/OMAPS/complete/wav_converted/050.wav...\n",
            "Successfully transcribed: 050.wav\n",
            "Processing ../../drive/MyDrive/Dissertation Code/OMAPS/complete/wav_converted/051.wav...\n",
            "Successfully transcribed: 051.wav\n",
            "Processing ../../drive/MyDrive/Dissertation Code/OMAPS/complete/wav_converted/052.wav...\n",
            "Successfully transcribed: 052.wav\n",
            "Processing ../../drive/MyDrive/Dissertation Code/OMAPS/complete/wav_converted/053.wav...\n",
            "Successfully transcribed: 053.wav\n",
            "Processing ../../drive/MyDrive/Dissertation Code/OMAPS/complete/wav_converted/054.wav...\n",
            "Successfully transcribed: 054.wav\n",
            "Processing ../../drive/MyDrive/Dissertation Code/OMAPS/complete/wav_converted/055.wav...\n",
            "Successfully transcribed: 055.wav\n",
            "Processing ../../drive/MyDrive/Dissertation Code/OMAPS/complete/wav_converted/056.wav...\n",
            "Successfully transcribed: 056.wav\n",
            "Processing ../../drive/MyDrive/Dissertation Code/OMAPS/complete/wav_converted/057.wav...\n",
            "Successfully transcribed: 057.wav\n",
            "Processing ../../drive/MyDrive/Dissertation Code/OMAPS/complete/wav_converted/058.wav...\n",
            "Successfully transcribed: 058.wav\n",
            "Processing ../../drive/MyDrive/Dissertation Code/OMAPS/complete/wav_converted/059.wav...\n",
            "Successfully transcribed: 059.wav\n",
            "Processing ../../drive/MyDrive/Dissertation Code/OMAPS/complete/wav_converted/060.wav...\n",
            "Successfully transcribed: 060.wav\n",
            "Processing ../../drive/MyDrive/Dissertation Code/OMAPS/complete/wav_converted/061.wav...\n",
            "Successfully transcribed: 061.wav\n",
            "Processing ../../drive/MyDrive/Dissertation Code/OMAPS/complete/wav_converted/062.wav...\n",
            "Successfully transcribed: 062.wav\n",
            "Processing ../../drive/MyDrive/Dissertation Code/OMAPS/complete/wav_converted/063.wav...\n",
            "Successfully transcribed: 063.wav\n",
            "Processing ../../drive/MyDrive/Dissertation Code/OMAPS/complete/wav_converted/064.wav...\n",
            "Successfully transcribed: 064.wav\n",
            "Processing ../../drive/MyDrive/Dissertation Code/OMAPS/complete/wav_converted/065.wav...\n",
            "Successfully transcribed: 065.wav\n",
            "Processing ../../drive/MyDrive/Dissertation Code/OMAPS/complete/wav_converted/067.wav...\n",
            "Successfully transcribed: 067.wav\n",
            "Processing ../../drive/MyDrive/Dissertation Code/OMAPS/complete/wav_converted/066.wav...\n",
            "Successfully transcribed: 066.wav\n",
            "Processing ../../drive/MyDrive/Dissertation Code/OMAPS/complete/wav_converted/068.wav...\n",
            "Successfully transcribed: 068.wav\n",
            "Processing ../../drive/MyDrive/Dissertation Code/OMAPS/complete/wav_converted/069.wav...\n",
            "Successfully transcribed: 069.wav\n",
            "Processing ../../drive/MyDrive/Dissertation Code/OMAPS/complete/wav_converted/070.wav...\n",
            "Successfully transcribed: 070.wav\n",
            "Processing ../../drive/MyDrive/Dissertation Code/OMAPS/complete/wav_converted/071.wav...\n",
            "Successfully transcribed: 071.wav\n",
            "Processing ../../drive/MyDrive/Dissertation Code/OMAPS/complete/wav_converted/072.wav...\n",
            "Successfully transcribed: 072.wav\n",
            "Processing ../../drive/MyDrive/Dissertation Code/OMAPS/complete/wav_converted/073.wav...\n",
            "Successfully transcribed: 073.wav\n",
            "Processing ../../drive/MyDrive/Dissertation Code/OMAPS/complete/wav_converted/075.wav...\n",
            "Successfully transcribed: 075.wav\n",
            "Processing ../../drive/MyDrive/Dissertation Code/OMAPS/complete/wav_converted/074.wav...\n",
            "Successfully transcribed: 074.wav\n",
            "Processing ../../drive/MyDrive/Dissertation Code/OMAPS/complete/wav_converted/076.wav...\n",
            "Successfully transcribed: 076.wav\n",
            "Processing ../../drive/MyDrive/Dissertation Code/OMAPS/complete/wav_converted/077.wav...\n",
            "Successfully transcribed: 077.wav\n",
            "Processing ../../drive/MyDrive/Dissertation Code/OMAPS/complete/wav_converted/078.wav...\n",
            "Successfully transcribed: 078.wav\n",
            "Processing ../../drive/MyDrive/Dissertation Code/OMAPS/complete/wav_converted/079.wav...\n",
            "Successfully transcribed: 079.wav\n",
            "Processing ../../drive/MyDrive/Dissertation Code/OMAPS/complete/wav_converted/080.wav...\n",
            "Successfully transcribed: 080.wav\n",
            "Processing ../../drive/MyDrive/Dissertation Code/OMAPS/complete/wav_converted/081.wav...\n",
            "Successfully transcribed: 081.wav\n",
            "Processing ../../drive/MyDrive/Dissertation Code/OMAPS/complete/wav_converted/082.wav...\n",
            "Successfully transcribed: 082.wav\n",
            "Processing ../../drive/MyDrive/Dissertation Code/OMAPS/complete/wav_converted/083.wav...\n",
            "Successfully transcribed: 083.wav\n",
            "Processing ../../drive/MyDrive/Dissertation Code/OMAPS/complete/wav_converted/084.wav...\n",
            "Successfully transcribed: 084.wav\n",
            "Processing ../../drive/MyDrive/Dissertation Code/OMAPS/complete/wav_converted/085.wav...\n",
            "Successfully transcribed: 085.wav\n",
            "Processing ../../drive/MyDrive/Dissertation Code/OMAPS/complete/wav_converted/086.wav...\n",
            "Successfully transcribed: 086.wav\n",
            "Processing ../../drive/MyDrive/Dissertation Code/OMAPS/complete/wav_converted/087.wav...\n",
            "Successfully transcribed: 087.wav\n",
            "Processing ../../drive/MyDrive/Dissertation Code/OMAPS/complete/wav_converted/088.wav...\n",
            "Successfully transcribed: 088.wav\n",
            "Processing ../../drive/MyDrive/Dissertation Code/OMAPS/complete/wav_converted/089.wav...\n",
            "Successfully transcribed: 089.wav\n",
            "Processing ../../drive/MyDrive/Dissertation Code/OMAPS/complete/wav_converted/091.wav...\n",
            "Successfully transcribed: 091.wav\n",
            "Processing ../../drive/MyDrive/Dissertation Code/OMAPS/complete/wav_converted/090.wav...\n",
            "Successfully transcribed: 090.wav\n",
            "Processing ../../drive/MyDrive/Dissertation Code/OMAPS/complete/wav_converted/092.wav...\n",
            "Successfully transcribed: 092.wav\n",
            "Processing ../../drive/MyDrive/Dissertation Code/OMAPS/complete/wav_converted/093.wav...\n",
            "Successfully transcribed: 093.wav\n",
            "Processing ../../drive/MyDrive/Dissertation Code/OMAPS/complete/wav_converted/094.wav...\n",
            "Successfully transcribed: 094.wav\n",
            "Processing ../../drive/MyDrive/Dissertation Code/OMAPS/complete/wav_converted/096.wav...\n",
            "Successfully transcribed: 096.wav\n",
            "Processing ../../drive/MyDrive/Dissertation Code/OMAPS/complete/wav_converted/095.wav...\n",
            "Successfully transcribed: 095.wav\n",
            "Processing ../../drive/MyDrive/Dissertation Code/OMAPS/complete/wav_converted/097.wav...\n",
            "Successfully transcribed: 097.wav\n",
            "Processing ../../drive/MyDrive/Dissertation Code/OMAPS/complete/wav_converted/098.wav...\n",
            "Successfully transcribed: 098.wav\n",
            "Processing ../../drive/MyDrive/Dissertation Code/OMAPS/complete/wav_converted/099.wav...\n",
            "Successfully transcribed: 099.wav\n",
            "Processing ../../drive/MyDrive/Dissertation Code/OMAPS/complete/wav_converted/100.wav...\n",
            "Successfully transcribed: 100.wav\n",
            "Processing ../../drive/MyDrive/Dissertation Code/OMAPS/complete/wav_converted/101.wav...\n",
            "Successfully transcribed: 101.wav\n",
            "Processing ../../drive/MyDrive/Dissertation Code/OMAPS/complete/wav_converted/102.wav...\n",
            "Successfully transcribed: 102.wav\n",
            "Processing ../../drive/MyDrive/Dissertation Code/OMAPS/complete/wav_converted/103.wav...\n",
            "Successfully transcribed: 103.wav\n",
            "Processing ../../drive/MyDrive/Dissertation Code/OMAPS/complete/wav_converted/104.wav...\n",
            "Successfully transcribed: 104.wav\n",
            "Processing ../../drive/MyDrive/Dissertation Code/OMAPS/complete/wav_converted/105.wav...\n",
            "Successfully transcribed: 105.wav\n",
            "Processing ../../drive/MyDrive/Dissertation Code/OMAPS/complete/wav_converted/106.wav...\n",
            "Successfully transcribed: 106.wav\n",
            "DONE\n"
          ]
        }
      ],
      "source": [
        "import os\n",
        "import subprocess\n",
        "import librosa\n",
        "\n",
        "input_directory = \"../../drive/MyDrive/Dissertation Code/OMAPS/complete/wav_converted\"\n",
        "output_directory = \"../../drive/MyDrive/Dissertation Code/OMAPS/evaluation/attack-delay\"\n",
        "\n",
        "# Iterate over each wav\n",
        "for filename in os.listdir(input_directory):\n",
        "    if filename.endswith(\".wav\"):\n",
        "        base_name = os.path.splitext(filename)[0]\n",
        "        input_audio_path = os.path.join(input_directory, filename)\n",
        "        input_audio_file = os.path.join(\"..\", input_directory, base_name)\n",
        "        output_file_path = os.path.join(output_directory, base_name + \".npy\")\n",
        "        output_piano_roll_path = os.path.join(output_directory, base_name + \"-pianoroll.npy\")\n",
        "\n",
        "        print(f\"Processing {input_audio_path}...\")\n",
        "\n",
        "        command = f'python nmf-transcription.py \"{input_audio_file}\"'\n",
        "        process = subprocess.run(command, shell=True, text=True, capture_output=True)\n",
        "\n",
        "        if process.returncode == 0:\n",
        "            print(f\"Successfully transcribed: {filename}\")\n",
        "        else:\n",
        "            print(f\"Failed to transcribe {filename}: {process.stderr}\")\n",
        "\n",
        "print(\"DONE\")\n"
      ]
    },
    {
      "cell_type": "code",
      "execution_count": null,
      "metadata": {
        "id": "n50zAbi5jb27"
      },
      "outputs": [],
      "source": []
    }
  ],
  "metadata": {
    "accelerator": "GPU",
    "colab": {
      "gpuType": "T4",
      "provenance": []
    },
    "kernelspec": {
      "display_name": "Python 3",
      "name": "python3"
    },
    "language_info": {
      "name": "python"
    }
  },
  "nbformat": 4,
  "nbformat_minor": 0
}