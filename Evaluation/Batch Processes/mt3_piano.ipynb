{
  "cells": [
    {
      "cell_type": "markdown",
      "metadata": {
        "id": "LHt2xZUSqIzV"
      },
      "source": [
        "<a href=\"https://colab.research.google.com/github/magenta/mt3/blob/main/mt3/colab/music_transcription_with_transformers.ipynb\" target=\"_parent\"><img src=\"https://colab.research.google.com/assets/colab-badge.svg\" alt=\"Open In Colab\"/></a>\n",
        "\n",
        "# Music Transcription with Transformers\n",
        "\n",
        "This notebook is an interactive demo of a few [music transcription models](g.co/magenta/mt3) created by Google's [Magenta](g.co/magenta) team.  You can upload audio and have one of our models automatically transcribe it.\n",
        "\n",
        "<img src=\"https://magenta.tensorflow.org/assets/transcription-with-transformers/architecture_diagram.png\" alt=\"Transformer-based transcription architecture\">\n",
        "\n",
        "The notebook supports two pre-trained models:\n",
        "1. the piano transcription model from [our ISMIR 2021 paper](https://archives.ismir.net/ismir2021/paper/000030.pdf)\n",
        "1. the multi-instrument transcription model from [our ICLR 2022 paper](https://openreview.net/pdf?id=iMSjopcOn0p)\n",
        "\n",
        "**Caveat**: neither model is trained on singing.  If you upload audio with vocals, you will likely get weird results.  Multi-instrument transcription is still not a completely-solved problem and so you may get weird results regardless.\n",
        "\n",
        "In any case, we hope you have fun transcribing!  Feel free to tweet any interesting output at [@GoogleMagenta](https://twitter.com/googlemagenta)...\n",
        "\n",
        "### Instructions for running:\n",
        "\n",
        "* Make sure to use a GPU runtime, click:  __Runtime >> Change Runtime Type >> GPU__\n",
        "* Press ▶️ on the left of each cell to execute the cell\n",
        "* In the __Load Model__ cell, choose either `ismir2021` for piano transcription or `mt3` for multi-instrument transcription\n",
        "* In the __Upload Audio__ cell, choose an MP3 or WAV file from your computer when prompted\n",
        "* Transcribe the audio using the __Transcribe Audio__ cell (it may take a few minutes depending on the length of the audio)\n",
        "\n",
        "---\n",
        "\n",
        "This notebook sends basic usage data to Google Analytics.  For more information, see [Google's privacy policy](https://policies.google.com/privacy)."
      ]
    },
    {
      "cell_type": "code",
      "execution_count": null,
      "metadata": {
        "id": "ibSG_uu0QXgc",
        "colab": {
          "base_uri": "https://localhost:8080/",
          "height": 1000
        },
        "outputId": "b315991b-cdb0-4f58-8dcf-e450b4275721"
      },
      "outputs": [
        {
          "output_type": "stream",
          "name": "stdout",
          "text": [
            "Thu Mar 21 17:02:03 2024       \n",
            "+---------------------------------------------------------------------------------------+\n",
            "| NVIDIA-SMI 535.104.05             Driver Version: 535.104.05   CUDA Version: 12.2     |\n",
            "|-----------------------------------------+----------------------+----------------------+\n",
            "| GPU  Name                 Persistence-M | Bus-Id        Disp.A | Volatile Uncorr. ECC |\n",
            "| Fan  Temp   Perf          Pwr:Usage/Cap |         Memory-Usage | GPU-Util  Compute M. |\n",
            "|                                         |                      |               MIG M. |\n",
            "|=========================================+======================+======================|\n",
            "|   0  Tesla T4                       Off | 00000000:00:04.0 Off |                    0 |\n",
            "| N/A   39C    P8              10W /  70W |      0MiB / 15360MiB |      0%      Default |\n",
            "|                                         |                      |                  N/A |\n",
            "+-----------------------------------------+----------------------+----------------------+\n",
            "                                                                                         \n",
            "+---------------------------------------------------------------------------------------+\n",
            "| Processes:                                                                            |\n",
            "|  GPU   GI   CI        PID   Type   Process name                            GPU Memory |\n",
            "|        ID   ID                                                             Usage      |\n",
            "|=======================================================================================|\n",
            "|  No running processes found                                                           |\n",
            "+---------------------------------------------------------------------------------------+\n",
            "Looking in links: https://storage.googleapis.com/jax-releases/jax_releases.html\n",
            "Requirement already satisfied: jax[cuda122] in /usr/local/lib/python3.10/dist-packages (0.4.25)\n",
            "\u001b[33mWARNING: jax 0.4.25 does not provide the extra 'cuda122'\u001b[0m\u001b[33m\n",
            "\u001b[0mRequirement already satisfied: ml-dtypes>=0.2.0 in /usr/local/lib/python3.10/dist-packages (from jax[cuda122]) (0.2.0)\n",
            "Requirement already satisfied: numpy>=1.22 in /usr/local/lib/python3.10/dist-packages (from jax[cuda122]) (1.25.2)\n",
            "Requirement already satisfied: opt-einsum in /usr/local/lib/python3.10/dist-packages (from jax[cuda122]) (3.3.0)\n",
            "Requirement already satisfied: scipy>=1.9 in /usr/local/lib/python3.10/dist-packages (from jax[cuda122]) (1.11.4)\n",
            "Cloning into 'mt3'...\n",
            "remote: Enumerating objects: 402, done.\u001b[K\n",
            "remote: Counting objects: 100% (145/145), done.\u001b[K\n",
            "remote: Compressing objects: 100% (73/73), done.\u001b[K\n",
            "remote: Total 402 (delta 84), reused 75 (delta 72), pack-reused 257\u001b[K\n",
            "Receiving objects: 100% (402/402), 155.53 KiB | 2.19 MiB/s, done.\n",
            "Resolving deltas: 100% (263/263), done.\n",
            "Looking in links: https://storage.googleapis.com/jax-releases/jax_cuda_releases.html\n",
            "Obtaining file:///content/drive/MyDrive/Dissertation%20Code\n",
            "  Preparing metadata (setup.py) ... \u001b[?25l\u001b[?25hdone\n",
            "Requirement already satisfied: jax[cuda11_local] in /usr/local/lib/python3.10/dist-packages (0.4.25)\n",
            "Requirement already satisfied: nest-asyncio in /usr/local/lib/python3.10/dist-packages (1.6.0)\n",
            "Requirement already satisfied: pyfluidsynth==1.3.0 in /usr/local/lib/python3.10/dist-packages (1.3.0)\n",
            "Requirement already satisfied: numpy in /usr/local/lib/python3.10/dist-packages (from pyfluidsynth==1.3.0) (1.25.2)\n",
            "Requirement already satisfied: ml-dtypes>=0.2.0 in /usr/local/lib/python3.10/dist-packages (from jax[cuda11_local]) (0.2.0)\n",
            "Requirement already satisfied: opt-einsum in /usr/local/lib/python3.10/dist-packages (from jax[cuda11_local]) (3.3.0)\n",
            "Requirement already satisfied: scipy>=1.9 in /usr/local/lib/python3.10/dist-packages (from jax[cuda11_local]) (1.11.4)\n",
            "Requirement already satisfied: jaxlib==0.4.25+cuda11.cudnn86 in /usr/local/lib/python3.10/dist-packages (from jax[cuda11_local]) (0.4.25+cuda11.cudnn86)\n",
            "Collecting flax@ git+https://github.com/google/flax#egg=flax (from mt3==0.0.1)\n",
            "  Cloning https://github.com/google/flax to /tmp/pip-install-_5qzntr8/flax_39c1ac1bee414ebc9667d2556bbaf928\n",
            "  Running command git clone --filter=blob:none --quiet https://github.com/google/flax /tmp/pip-install-_5qzntr8/flax_39c1ac1bee414ebc9667d2556bbaf928\n",
            "  Resolved https://github.com/google/flax to commit 20213c97c63a2ebfc3dd03972da50b278cd40823\n",
            "  Installing build dependencies ... \u001b[?25l\u001b[?25hdone\n",
            "  Getting requirements to build wheel ... \u001b[?25l\u001b[?25hdone\n",
            "  Installing backend dependencies ... \u001b[?25l\u001b[?25hdone\n",
            "  Preparing metadata (pyproject.toml) ... \u001b[?25l\u001b[?25hdone\n",
            "Collecting seqio@ git+https://github.com/google/seqio#egg=seqio (from mt3==0.0.1)\n",
            "  Cloning https://github.com/google/seqio to /tmp/pip-install-_5qzntr8/seqio_49152522479d43179292ee9f215a617c\n",
            "  Running command git clone --filter=blob:none --quiet https://github.com/google/seqio /tmp/pip-install-_5qzntr8/seqio_49152522479d43179292ee9f215a617c\n",
            "  Resolved https://github.com/google/seqio to commit 7df80e15d7d0998945b8d0fa66d518a02df949fa\n",
            "  Preparing metadata (setup.py) ... \u001b[?25l\u001b[?25hdone\n",
            "Collecting t5x@ git+https://github.com/google-research/t5x#egg=t5x (from mt3==0.0.1)\n",
            "  Cloning https://github.com/google-research/t5x to /tmp/pip-install-_5qzntr8/t5x_4f1d6d548504481b80b7e577d71726e0\n",
            "  Running command git clone --filter=blob:none --quiet https://github.com/google-research/t5x /tmp/pip-install-_5qzntr8/t5x_4f1d6d548504481b80b7e577d71726e0\n",
            "  Resolved https://github.com/google-research/t5x to commit dd6fcdd850e389a4fff06bf3bab4b9dff6dc101d\n",
            "  Preparing metadata (setup.py) ... \u001b[?25l\u001b[?25hdone\n",
            "Requirement already satisfied: absl-py in /usr/local/lib/python3.10/dist-packages (from mt3==0.0.1) (1.4.0)\n",
            "Requirement already satisfied: gin-config in /usr/local/lib/python3.10/dist-packages (from mt3==0.0.1) (0.5.0)\n",
            "Requirement already satisfied: immutabledict in /usr/local/lib/python3.10/dist-packages (from mt3==0.0.1) (4.2.0)\n",
            "Requirement already satisfied: librosa in /usr/local/lib/python3.10/dist-packages (from mt3==0.0.1) (0.10.1)\n",
            "Requirement already satisfied: mir_eval in /usr/local/lib/python3.10/dist-packages (from mt3==0.0.1) (0.7)\n",
            "Requirement already satisfied: note_seq in /usr/local/lib/python3.10/dist-packages (from mt3==0.0.1) (0.0.3)\n",
            "Requirement already satisfied: pretty_midi in /usr/local/lib/python3.10/dist-packages (from mt3==0.0.1) (0.2.10)\n",
            "Requirement already satisfied: scikit-learn in /usr/local/lib/python3.10/dist-packages (from mt3==0.0.1) (1.2.2)\n",
            "Requirement already satisfied: t5 in /usr/local/lib/python3.10/dist-packages (from mt3==0.0.1) (0.9.4)\n",
            "Requirement already satisfied: tensorflow in /usr/local/lib/python3.10/dist-packages (from mt3==0.0.1) (2.15.0)\n",
            "Requirement already satisfied: tensorflow-datasets in /usr/local/lib/python3.10/dist-packages (from mt3==0.0.1) (4.9.4)\n",
            "Requirement already satisfied: msgpack in /usr/local/lib/python3.10/dist-packages (from flax@ git+https://github.com/google/flax#egg=flax->mt3==0.0.1) (1.0.8)\n",
            "Requirement already satisfied: optax in /usr/local/lib/python3.10/dist-packages (from flax@ git+https://github.com/google/flax#egg=flax->mt3==0.0.1) (0.2.2.dev0)\n",
            "Requirement already satisfied: orbax-checkpoint in /usr/local/lib/python3.10/dist-packages (from flax@ git+https://github.com/google/flax#egg=flax->mt3==0.0.1) (0.4.4)\n",
            "Requirement already satisfied: tensorstore in /usr/local/lib/python3.10/dist-packages (from flax@ git+https://github.com/google/flax#egg=flax->mt3==0.0.1) (0.1.45)\n",
            "Requirement already satisfied: rich>=11.1 in /usr/local/lib/python3.10/dist-packages (from flax@ git+https://github.com/google/flax#egg=flax->mt3==0.0.1) (13.7.1)\n",
            "Requirement already satisfied: typing-extensions>=4.2 in /usr/local/lib/python3.10/dist-packages (from flax@ git+https://github.com/google/flax#egg=flax->mt3==0.0.1) (4.10.0)\n",
            "Requirement already satisfied: PyYAML>=5.4.1 in /usr/local/lib/python3.10/dist-packages (from flax@ git+https://github.com/google/flax#egg=flax->mt3==0.0.1) (6.0.1)\n",
            "Requirement already satisfied: audioread>=2.1.9 in /usr/local/lib/python3.10/dist-packages (from librosa->mt3==0.0.1) (3.0.1)\n",
            "Requirement already satisfied: joblib>=0.14 in /usr/local/lib/python3.10/dist-packages (from librosa->mt3==0.0.1) (1.3.2)\n",
            "Requirement already satisfied: decorator>=4.3.0 in /usr/local/lib/python3.10/dist-packages (from librosa->mt3==0.0.1) (4.4.2)\n",
            "Requirement already satisfied: numba>=0.51.0 in /usr/local/lib/python3.10/dist-packages (from librosa->mt3==0.0.1) (0.58.1)\n",
            "Requirement already satisfied: soundfile>=0.12.1 in /usr/local/lib/python3.10/dist-packages (from librosa->mt3==0.0.1) (0.12.1)\n",
            "Requirement already satisfied: pooch>=1.0 in /usr/local/lib/python3.10/dist-packages (from librosa->mt3==0.0.1) (1.8.1)\n",
            "Requirement already satisfied: soxr>=0.3.2 in /usr/local/lib/python3.10/dist-packages (from librosa->mt3==0.0.1) (0.3.7)\n",
            "Requirement already satisfied: lazy-loader>=0.1 in /usr/local/lib/python3.10/dist-packages (from librosa->mt3==0.0.1) (0.3)\n",
            "Requirement already satisfied: threadpoolctl>=2.0.0 in /usr/local/lib/python3.10/dist-packages (from scikit-learn->mt3==0.0.1) (3.3.0)\n",
            "Requirement already satisfied: future in /usr/local/lib/python3.10/dist-packages (from mir_eval->mt3==0.0.1) (0.18.3)\n",
            "Requirement already satisfied: six in /usr/local/lib/python3.10/dist-packages (from mir_eval->mt3==0.0.1) (1.16.0)\n",
            "Requirement already satisfied: attrs in /usr/local/lib/python3.10/dist-packages (from note_seq->mt3==0.0.1) (23.2.0)\n",
            "Requirement already satisfied: bokeh>=0.12.0 in /usr/local/lib/python3.10/dist-packages (from note_seq->mt3==0.0.1) (3.3.4)\n",
            "Requirement already satisfied: intervaltree>=2.1.0 in /usr/local/lib/python3.10/dist-packages (from note_seq->mt3==0.0.1) (3.1.0)\n",
            "Requirement already satisfied: IPython in /usr/local/lib/python3.10/dist-packages (from note_seq->mt3==0.0.1) (7.34.0)\n",
            "Requirement already satisfied: pandas>=0.18.1 in /usr/local/lib/python3.10/dist-packages (from note_seq->mt3==0.0.1) (1.5.3)\n",
            "Requirement already satisfied: protobuf>=3.6.1 in /usr/local/lib/python3.10/dist-packages (from note_seq->mt3==0.0.1) (3.20.3)\n",
            "Requirement already satisfied: pydub in /usr/local/lib/python3.10/dist-packages (from note_seq->mt3==0.0.1) (0.25.1)\n",
            "Requirement already satisfied: mido>=1.1.16 in /usr/local/lib/python3.10/dist-packages (from pretty_midi->mt3==0.0.1) (1.3.2)\n",
            "Requirement already satisfied: clu in /usr/local/lib/python3.10/dist-packages (from seqio@ git+https://github.com/google/seqio#egg=seqio->mt3==0.0.1) (0.0.11)\n",
            "Requirement already satisfied: editdistance in /usr/local/lib/python3.10/dist-packages (from seqio@ git+https://github.com/google/seqio#egg=seqio->mt3==0.0.1) (0.6.2)\n",
            "Requirement already satisfied: packaging in /usr/local/lib/python3.10/dist-packages (from seqio@ git+https://github.com/google/seqio#egg=seqio->mt3==0.0.1) (23.2)\n",
            "Requirement already satisfied: pyglove in /usr/local/lib/python3.10/dist-packages (from seqio@ git+https://github.com/google/seqio#egg=seqio->mt3==0.0.1) (0.4.4)\n",
            "Requirement already satisfied: sentencepiece in /usr/local/lib/python3.10/dist-packages (from seqio@ git+https://github.com/google/seqio#egg=seqio->mt3==0.0.1) (0.1.99)\n",
            "Requirement already satisfied: tensorflow-text in /usr/local/lib/python3.10/dist-packages (from seqio@ git+https://github.com/google/seqio#egg=seqio->mt3==0.0.1) (2.15.0)\n",
            "Requirement already satisfied: tfds-nightly==4.9.2.dev202308090034 in /usr/local/lib/python3.10/dist-packages (from seqio@ git+https://github.com/google/seqio#egg=seqio->mt3==0.0.1) (4.9.2.dev202308090034)\n",
            "Requirement already satisfied: array-record in /usr/local/lib/python3.10/dist-packages (from tfds-nightly==4.9.2.dev202308090034->seqio@ git+https://github.com/google/seqio#egg=seqio->mt3==0.0.1) (0.5.0)\n",
            "Requirement already satisfied: click in /usr/local/lib/python3.10/dist-packages (from tfds-nightly==4.9.2.dev202308090034->seqio@ git+https://github.com/google/seqio#egg=seqio->mt3==0.0.1) (8.1.7)\n",
            "Requirement already satisfied: dm-tree in /usr/local/lib/python3.10/dist-packages (from tfds-nightly==4.9.2.dev202308090034->seqio@ git+https://github.com/google/seqio#egg=seqio->mt3==0.0.1) (0.1.8)\n",
            "Requirement already satisfied: etils[enp,epath,etree]>=0.9.0 in /usr/local/lib/python3.10/dist-packages (from tfds-nightly==4.9.2.dev202308090034->seqio@ git+https://github.com/google/seqio#egg=seqio->mt3==0.0.1) (1.7.0)\n",
            "Requirement already satisfied: promise in /usr/local/lib/python3.10/dist-packages (from tfds-nightly==4.9.2.dev202308090034->seqio@ git+https://github.com/google/seqio#egg=seqio->mt3==0.0.1) (2.3)\n",
            "Requirement already satisfied: psutil in /usr/local/lib/python3.10/dist-packages (from tfds-nightly==4.9.2.dev202308090034->seqio@ git+https://github.com/google/seqio#egg=seqio->mt3==0.0.1) (5.9.5)\n",
            "Requirement already satisfied: requests>=2.19.0 in /usr/local/lib/python3.10/dist-packages (from tfds-nightly==4.9.2.dev202308090034->seqio@ git+https://github.com/google/seqio#egg=seqio->mt3==0.0.1) (2.31.0)\n",
            "Requirement already satisfied: tensorflow-metadata in /usr/local/lib/python3.10/dist-packages (from tfds-nightly==4.9.2.dev202308090034->seqio@ git+https://github.com/google/seqio#egg=seqio->mt3==0.0.1) (1.14.0)\n",
            "Requirement already satisfied: termcolor in /usr/local/lib/python3.10/dist-packages (from tfds-nightly==4.9.2.dev202308090034->seqio@ git+https://github.com/google/seqio#egg=seqio->mt3==0.0.1) (2.4.0)\n",
            "Requirement already satisfied: toml in /usr/local/lib/python3.10/dist-packages (from tfds-nightly==4.9.2.dev202308090034->seqio@ git+https://github.com/google/seqio#egg=seqio->mt3==0.0.1) (0.10.2)\n",
            "Requirement already satisfied: tqdm in /usr/local/lib/python3.10/dist-packages (from tfds-nightly==4.9.2.dev202308090034->seqio@ git+https://github.com/google/seqio#egg=seqio->mt3==0.0.1) (4.66.2)\n",
            "Requirement already satisfied: wrapt in /usr/local/lib/python3.10/dist-packages (from tfds-nightly==4.9.2.dev202308090034->seqio@ git+https://github.com/google/seqio#egg=seqio->mt3==0.0.1) (1.14.1)\n",
            "Requirement already satisfied: babel in /usr/local/lib/python3.10/dist-packages (from t5->mt3==0.0.1) (2.14.0)\n",
            "Requirement already satisfied: mesh-tensorflow[transformer]>=0.1.13 in /usr/local/lib/python3.10/dist-packages (from t5->mt3==0.0.1) (0.1.21)\n",
            "Requirement already satisfied: nltk in /usr/local/lib/python3.10/dist-packages (from t5->mt3==0.0.1) (3.8.1)\n",
            "Requirement already satisfied: rouge-score>=0.1.2 in /usr/local/lib/python3.10/dist-packages (from t5->mt3==0.0.1) (0.1.2)\n",
            "Requirement already satisfied: sacrebleu in /usr/local/lib/python3.10/dist-packages (from t5->mt3==0.0.1) (2.4.1)\n",
            "Requirement already satisfied: seqio-nightly in /usr/local/lib/python3.10/dist-packages (from t5->mt3==0.0.1) (0.0.18.dev20240321)\n",
            "Requirement already satisfied: transformers>=2.7.0 in /usr/local/lib/python3.10/dist-packages (from t5->mt3==0.0.1) (4.38.2)\n",
            "Collecting airio@ git+https://github.com/google/airio#egg=airio (from t5x@ git+https://github.com/google-research/t5x#egg=t5x->mt3==0.0.1)\n",
            "  Cloning https://github.com/google/airio to /tmp/pip-install-_5qzntr8/airio_ca22514f5b014f4cb32b4a4f986f470a\n",
            "  Running command git clone --filter=blob:none --quiet https://github.com/google/airio /tmp/pip-install-_5qzntr8/airio_ca22514f5b014f4cb32b4a4f986f470a\n",
            "  Resolved https://github.com/google/airio to commit 7bf321785196e201cfad1be86a32df9c0f1cacc9\n",
            "  Preparing metadata (setup.py) ... \u001b[?25l\u001b[?25hdone\n",
            "Collecting clu@ git+https://github.com/google/CommonLoopUtils#egg=clu (from t5x@ git+https://github.com/google-research/t5x#egg=t5x->mt3==0.0.1)\n",
            "  Cloning https://github.com/google/CommonLoopUtils to /tmp/pip-install-_5qzntr8/clu_4e51c82bbf9c494bb9dd64da278c09a8\n",
            "  Running command git clone --filter=blob:none --quiet https://github.com/google/CommonLoopUtils /tmp/pip-install-_5qzntr8/clu_4e51c82bbf9c494bb9dd64da278c09a8\n",
            "  Resolved https://github.com/google/CommonLoopUtils to commit c50acb760902c94a89ad3f605edc2d094bc2a7a1\n",
            "  Preparing metadata (setup.py) ... \u001b[?25l\u001b[?25hdone\n",
            "Collecting jestimator@ git+https://github.com/google-research/jestimator#egg=jestimator (from t5x@ git+https://github.com/google-research/t5x#egg=t5x->mt3==0.0.1)\n",
            "  Cloning https://github.com/google-research/jestimator to /tmp/pip-install-_5qzntr8/jestimator_46f824bbf0a04e5380bfbc8c9496fb0a\n",
            "  Running command git clone --filter=blob:none --quiet https://github.com/google-research/jestimator /tmp/pip-install-_5qzntr8/jestimator_46f824bbf0a04e5380bfbc8c9496fb0a\n",
            "  Resolved https://github.com/google-research/jestimator to commit 6a57d35539f5193a9756a7cb846654e9b221b2e7\n",
            "  Installing build dependencies ... \u001b[?25l\u001b[?25hdone\n",
            "  Getting requirements to build wheel ... \u001b[?25l\u001b[?25hdone\n",
            "  Preparing metadata (pyproject.toml) ... \u001b[?25l\u001b[?25hdone\n",
            "Collecting optax@ git+https://github.com/deepmind/optax#egg=optax (from t5x@ git+https://github.com/google-research/t5x#egg=t5x->mt3==0.0.1)\n",
            "  Cloning https://github.com/deepmind/optax to /tmp/pip-install-_5qzntr8/optax_79ab47cfa6e74aef85bfdc11ad8ad260\n",
            "  Running command git clone --filter=blob:none --quiet https://github.com/deepmind/optax /tmp/pip-install-_5qzntr8/optax_79ab47cfa6e74aef85bfdc11ad8ad260\n",
            "  Resolved https://github.com/deepmind/optax to commit 207983d709490e41c353ee4ec39035622499d4c6\n",
            "  Installing build dependencies ... \u001b[?25l\u001b[?25hdone\n",
            "  Getting requirements to build wheel ... \u001b[?25l\u001b[?25hdone\n",
            "  Preparing metadata (pyproject.toml) ... \u001b[?25l\u001b[?25hdone\n",
            "Requirement already satisfied: cached_property in /usr/local/lib/python3.10/dist-packages (from t5x@ git+https://github.com/google-research/t5x#egg=t5x->mt3==0.0.1) (1.5.2)\n",
            "Requirement already satisfied: fiddle>=0.2.5 in /usr/local/lib/python3.10/dist-packages (from t5x@ git+https://github.com/google-research/t5x#egg=t5x->mt3==0.0.1) (0.2.11)\n",
            "Requirement already satisfied: tensorflow-cpu in /usr/local/lib/python3.10/dist-packages (from t5x@ git+https://github.com/google-research/t5x#egg=t5x->mt3==0.0.1) (2.15.0.post1)\n",
            "Requirement already satisfied: astunparse>=1.6.0 in /usr/local/lib/python3.10/dist-packages (from tensorflow->mt3==0.0.1) (1.6.3)\n",
            "Requirement already satisfied: flatbuffers>=23.5.26 in /usr/local/lib/python3.10/dist-packages (from tensorflow->mt3==0.0.1) (24.3.7)\n",
            "Requirement already satisfied: gast!=0.5.0,!=0.5.1,!=0.5.2,>=0.2.1 in /usr/local/lib/python3.10/dist-packages (from tensorflow->mt3==0.0.1) (0.5.4)\n",
            "Requirement already satisfied: google-pasta>=0.1.1 in /usr/local/lib/python3.10/dist-packages (from tensorflow->mt3==0.0.1) (0.2.0)\n",
            "Requirement already satisfied: h5py>=2.9.0 in /usr/local/lib/python3.10/dist-packages (from tensorflow->mt3==0.0.1) (3.9.0)\n",
            "Requirement already satisfied: libclang>=13.0.0 in /usr/local/lib/python3.10/dist-packages (from tensorflow->mt3==0.0.1) (16.0.6)\n",
            "Requirement already satisfied: setuptools in /usr/local/lib/python3.10/dist-packages (from tensorflow->mt3==0.0.1) (67.7.2)\n",
            "Requirement already satisfied: tensorflow-io-gcs-filesystem>=0.23.1 in /usr/local/lib/python3.10/dist-packages (from tensorflow->mt3==0.0.1) (0.36.0)\n",
            "Requirement already satisfied: grpcio<2.0,>=1.24.3 in /usr/local/lib/python3.10/dist-packages (from tensorflow->mt3==0.0.1) (1.62.1)\n",
            "Requirement already satisfied: tensorboard<2.16,>=2.15 in /usr/local/lib/python3.10/dist-packages (from tensorflow->mt3==0.0.1) (2.15.2)\n",
            "Requirement already satisfied: tensorflow-estimator<2.16,>=2.15.0 in /usr/local/lib/python3.10/dist-packages (from tensorflow->mt3==0.0.1) (2.15.0)\n",
            "Requirement already satisfied: keras<2.16,>=2.15.0 in /usr/local/lib/python3.10/dist-packages (from tensorflow->mt3==0.0.1) (2.15.0)\n",
            "Requirement already satisfied: wheel<1.0,>=0.23.0 in /usr/local/lib/python3.10/dist-packages (from astunparse>=1.6.0->tensorflow->mt3==0.0.1) (0.43.0)\n",
            "Requirement already satisfied: Jinja2>=2.9 in /usr/local/lib/python3.10/dist-packages (from bokeh>=0.12.0->note_seq->mt3==0.0.1) (3.1.3)\n",
            "Requirement already satisfied: contourpy>=1 in /usr/local/lib/python3.10/dist-packages (from bokeh>=0.12.0->note_seq->mt3==0.0.1) (1.2.0)\n",
            "Requirement already satisfied: pillow>=7.1.0 in /usr/local/lib/python3.10/dist-packages (from bokeh>=0.12.0->note_seq->mt3==0.0.1) (9.4.0)\n",
            "Requirement already satisfied: tornado>=5.1 in /usr/local/lib/python3.10/dist-packages (from bokeh>=0.12.0->note_seq->mt3==0.0.1) (6.3.3)\n",
            "Requirement already satisfied: xyzservices>=2021.09.1 in /usr/local/lib/python3.10/dist-packages (from bokeh>=0.12.0->note_seq->mt3==0.0.1) (2023.10.1)\n",
            "Requirement already satisfied: fsspec in /usr/local/lib/python3.10/dist-packages (from etils[enp,epath,etree]>=0.9.0->tfds-nightly==4.9.2.dev202308090034->seqio@ git+https://github.com/google/seqio#egg=seqio->mt3==0.0.1) (2023.6.0)\n",
            "Requirement already satisfied: importlib_resources in /usr/local/lib/python3.10/dist-packages (from etils[enp,epath,etree]>=0.9.0->tfds-nightly==4.9.2.dev202308090034->seqio@ git+https://github.com/google/seqio#egg=seqio->mt3==0.0.1) (6.3.0)\n",
            "Requirement already satisfied: zipp in /usr/local/lib/python3.10/dist-packages (from etils[enp,epath,etree]>=0.9.0->tfds-nightly==4.9.2.dev202308090034->seqio@ git+https://github.com/google/seqio#egg=seqio->mt3==0.0.1) (3.18.1)\n",
            "Requirement already satisfied: graphviz in /usr/local/lib/python3.10/dist-packages (from fiddle>=0.2.5->t5x@ git+https://github.com/google-research/t5x#egg=t5x->mt3==0.0.1) (0.20.1)\n",
            "Requirement already satisfied: libcst in /usr/local/lib/python3.10/dist-packages (from fiddle>=0.2.5->t5x@ git+https://github.com/google-research/t5x#egg=t5x->mt3==0.0.1) (1.2.0)\n",
            "Requirement already satisfied: sortedcontainers<3.0,>=2.0 in /usr/local/lib/python3.10/dist-packages (from intervaltree>=2.1.0->note_seq->mt3==0.0.1) (2.4.0)\n",
            "Requirement already satisfied: llvmlite<0.42,>=0.41.0dev0 in /usr/local/lib/python3.10/dist-packages (from numba>=0.51.0->librosa->mt3==0.0.1) (0.41.1)\n",
            "Requirement already satisfied: python-dateutil>=2.8.1 in /usr/local/lib/python3.10/dist-packages (from pandas>=0.18.1->note_seq->mt3==0.0.1) (2.8.2)\n",
            "Requirement already satisfied: pytz>=2020.1 in /usr/local/lib/python3.10/dist-packages (from pandas>=0.18.1->note_seq->mt3==0.0.1) (2023.4)\n",
            "Requirement already satisfied: platformdirs>=2.5.0 in /usr/local/lib/python3.10/dist-packages (from pooch>=1.0->librosa->mt3==0.0.1) (4.2.0)\n",
            "Requirement already satisfied: charset-normalizer<4,>=2 in /usr/local/lib/python3.10/dist-packages (from requests>=2.19.0->tfds-nightly==4.9.2.dev202308090034->seqio@ git+https://github.com/google/seqio#egg=seqio->mt3==0.0.1) (3.3.2)\n",
            "Requirement already satisfied: idna<4,>=2.5 in /usr/local/lib/python3.10/dist-packages (from requests>=2.19.0->tfds-nightly==4.9.2.dev202308090034->seqio@ git+https://github.com/google/seqio#egg=seqio->mt3==0.0.1) (3.6)\n",
            "Requirement already satisfied: urllib3<3,>=1.21.1 in /usr/local/lib/python3.10/dist-packages (from requests>=2.19.0->tfds-nightly==4.9.2.dev202308090034->seqio@ git+https://github.com/google/seqio#egg=seqio->mt3==0.0.1) (2.0.7)\n",
            "Requirement already satisfied: certifi>=2017.4.17 in /usr/local/lib/python3.10/dist-packages (from requests>=2.19.0->tfds-nightly==4.9.2.dev202308090034->seqio@ git+https://github.com/google/seqio#egg=seqio->mt3==0.0.1) (2024.2.2)\n",
            "Requirement already satisfied: markdown-it-py>=2.2.0 in /usr/local/lib/python3.10/dist-packages (from rich>=11.1->flax@ git+https://github.com/google/flax#egg=flax->mt3==0.0.1) (3.0.0)\n",
            "Requirement already satisfied: pygments<3.0.0,>=2.13.0 in /usr/local/lib/python3.10/dist-packages (from rich>=11.1->flax@ git+https://github.com/google/flax#egg=flax->mt3==0.0.1) (2.16.1)\n",
            "Requirement already satisfied: cffi>=1.0 in /usr/local/lib/python3.10/dist-packages (from soundfile>=0.12.1->librosa->mt3==0.0.1) (1.16.0)\n",
            "Requirement already satisfied: google-auth<3,>=1.6.3 in /usr/local/lib/python3.10/dist-packages (from tensorboard<2.16,>=2.15->tensorflow->mt3==0.0.1) (2.27.0)\n",
            "Requirement already satisfied: google-auth-oauthlib<2,>=0.5 in /usr/local/lib/python3.10/dist-packages (from tensorboard<2.16,>=2.15->tensorflow->mt3==0.0.1) (1.2.0)\n",
            "Requirement already satisfied: markdown>=2.6.8 in /usr/local/lib/python3.10/dist-packages (from tensorboard<2.16,>=2.15->tensorflow->mt3==0.0.1) (3.6)\n",
            "Requirement already satisfied: tensorboard-data-server<0.8.0,>=0.7.0 in /usr/local/lib/python3.10/dist-packages (from tensorboard<2.16,>=2.15->tensorflow->mt3==0.0.1) (0.7.2)\n",
            "Requirement already satisfied: werkzeug>=1.0.1 in /usr/local/lib/python3.10/dist-packages (from tensorboard<2.16,>=2.15->tensorflow->mt3==0.0.1) (3.0.1)\n",
            "Requirement already satisfied: filelock in /usr/local/lib/python3.10/dist-packages (from transformers>=2.7.0->t5->mt3==0.0.1) (3.13.1)\n",
            "Requirement already satisfied: huggingface-hub<1.0,>=0.19.3 in /usr/local/lib/python3.10/dist-packages (from transformers>=2.7.0->t5->mt3==0.0.1) (0.20.3)\n",
            "Requirement already satisfied: regex!=2019.12.17 in /usr/local/lib/python3.10/dist-packages (from transformers>=2.7.0->t5->mt3==0.0.1) (2023.12.25)\n",
            "Requirement already satisfied: tokenizers<0.19,>=0.14 in /usr/local/lib/python3.10/dist-packages (from transformers>=2.7.0->t5->mt3==0.0.1) (0.15.2)\n",
            "Requirement already satisfied: safetensors>=0.4.1 in /usr/local/lib/python3.10/dist-packages (from transformers>=2.7.0->t5->mt3==0.0.1) (0.4.2)\n",
            "Requirement already satisfied: grain-nightly==0.0.6 in /usr/local/lib/python3.10/dist-packages (from airio@ git+https://github.com/google/airio#egg=airio->t5x@ git+https://github.com/google-research/t5x#egg=t5x->mt3==0.0.1) (0.0.6)\n",
            "Requirement already satisfied: cloudpickle in /usr/local/lib/python3.10/dist-packages (from grain-nightly==0.0.6->airio@ git+https://github.com/google/airio#egg=airio->t5x@ git+https://github.com/google-research/t5x#egg=t5x->mt3==0.0.1) (2.2.1)\n",
            "Requirement already satisfied: jaxtyping in /usr/local/lib/python3.10/dist-packages (from grain-nightly==0.0.6->airio@ git+https://github.com/google/airio#egg=airio->t5x@ git+https://github.com/google-research/t5x#egg=t5x->mt3==0.0.1) (0.2.28)\n",
            "Requirement already satisfied: more-itertools>=9.1.0 in /usr/local/lib/python3.10/dist-packages (from grain-nightly==0.0.6->airio@ git+https://github.com/google/airio#egg=airio->t5x@ git+https://github.com/google-research/t5x#egg=t5x->mt3==0.0.1) (10.1.0)\n",
            "Requirement already satisfied: ml_collections in /usr/local/lib/python3.10/dist-packages (from clu@ git+https://github.com/google/CommonLoopUtils#egg=clu->t5x@ git+https://github.com/google-research/t5x#egg=t5x->mt3==0.0.1) (0.1.1)\n",
            "Requirement already satisfied: jedi>=0.16 in /usr/local/lib/python3.10/dist-packages (from IPython->note_seq->mt3==0.0.1) (0.19.1)\n",
            "Requirement already satisfied: pickleshare in /usr/local/lib/python3.10/dist-packages (from IPython->note_seq->mt3==0.0.1) (0.7.5)\n",
            "Requirement already satisfied: traitlets>=4.2 in /usr/local/lib/python3.10/dist-packages (from IPython->note_seq->mt3==0.0.1) (5.7.1)\n",
            "Requirement already satisfied: prompt-toolkit!=3.0.0,!=3.0.1,<3.1.0,>=2.0.0 in /usr/local/lib/python3.10/dist-packages (from IPython->note_seq->mt3==0.0.1) (3.0.43)\n",
            "Requirement already satisfied: backcall in /usr/local/lib/python3.10/dist-packages (from IPython->note_seq->mt3==0.0.1) (0.2.0)\n",
            "Requirement already satisfied: matplotlib-inline in /usr/local/lib/python3.10/dist-packages (from IPython->note_seq->mt3==0.0.1) (0.1.6)\n",
            "Requirement already satisfied: pexpect>4.3 in /usr/local/lib/python3.10/dist-packages (from IPython->note_seq->mt3==0.0.1) (4.9.0)\n",
            "Requirement already satisfied: chex>=0.1.86 in /usr/local/lib/python3.10/dist-packages (from optax@ git+https://github.com/deepmind/optax#egg=optax->t5x@ git+https://github.com/google-research/t5x#egg=t5x->mt3==0.0.1) (0.1.86)\n",
            "Requirement already satisfied: docstring-parser>=0.12 in /usr/local/lib/python3.10/dist-packages (from pyglove->seqio@ git+https://github.com/google/seqio#egg=seqio->mt3==0.0.1) (0.16)\n",
            "Requirement already satisfied: portalocker in /usr/local/lib/python3.10/dist-packages (from sacrebleu->t5->mt3==0.0.1) (2.8.2)\n",
            "Requirement already satisfied: tabulate>=0.8.9 in /usr/local/lib/python3.10/dist-packages (from sacrebleu->t5->mt3==0.0.1) (0.9.0)\n",
            "Requirement already satisfied: colorama in /usr/local/lib/python3.10/dist-packages (from sacrebleu->t5->mt3==0.0.1) (0.4.6)\n",
            "Requirement already satisfied: lxml in /usr/local/lib/python3.10/dist-packages (from sacrebleu->t5->mt3==0.0.1) (4.9.4)\n",
            "Requirement already satisfied: googleapis-common-protos<2,>=1.52.0 in /usr/local/lib/python3.10/dist-packages (from tensorflow-metadata->tfds-nightly==4.9.2.dev202308090034->seqio@ git+https://github.com/google/seqio#egg=seqio->mt3==0.0.1) (1.63.0)\n",
            "Requirement already satisfied: tensorflow-hub>=0.13.0 in /usr/local/lib/python3.10/dist-packages (from tensorflow-text->seqio@ git+https://github.com/google/seqio#egg=seqio->mt3==0.0.1) (0.16.1)\n",
            "Requirement already satisfied: pycparser in /usr/local/lib/python3.10/dist-packages (from cffi>=1.0->soundfile>=0.12.1->librosa->mt3==0.0.1) (2.21)\n",
            "Requirement already satisfied: toolz>=0.9.0 in /usr/local/lib/python3.10/dist-packages (from chex>=0.1.86->optax@ git+https://github.com/deepmind/optax#egg=optax->t5x@ git+https://github.com/google-research/t5x#egg=t5x->mt3==0.0.1) (0.12.1)\n",
            "Requirement already satisfied: cachetools<6.0,>=2.0.0 in /usr/local/lib/python3.10/dist-packages (from google-auth<3,>=1.6.3->tensorboard<2.16,>=2.15->tensorflow->mt3==0.0.1) (5.3.3)\n",
            "Requirement already satisfied: pyasn1-modules>=0.2.1 in /usr/local/lib/python3.10/dist-packages (from google-auth<3,>=1.6.3->tensorboard<2.16,>=2.15->tensorflow->mt3==0.0.1) (0.3.0)\n",
            "Requirement already satisfied: rsa<5,>=3.1.4 in /usr/local/lib/python3.10/dist-packages (from google-auth<3,>=1.6.3->tensorboard<2.16,>=2.15->tensorflow->mt3==0.0.1) (4.9)\n",
            "Requirement already satisfied: requests-oauthlib>=0.7.0 in /usr/local/lib/python3.10/dist-packages (from google-auth-oauthlib<2,>=0.5->tensorboard<2.16,>=2.15->tensorflow->mt3==0.0.1) (1.4.0)\n",
            "Requirement already satisfied: parso<0.9.0,>=0.8.3 in /usr/local/lib/python3.10/dist-packages (from jedi>=0.16->IPython->note_seq->mt3==0.0.1) (0.8.3)\n",
            "Requirement already satisfied: MarkupSafe>=2.0 in /usr/local/lib/python3.10/dist-packages (from Jinja2>=2.9->bokeh>=0.12.0->note_seq->mt3==0.0.1) (2.1.5)\n",
            "Requirement already satisfied: mdurl~=0.1 in /usr/local/lib/python3.10/dist-packages (from markdown-it-py>=2.2.0->rich>=11.1->flax@ git+https://github.com/google/flax#egg=flax->mt3==0.0.1) (0.1.2)\n",
            "Requirement already satisfied: ptyprocess>=0.5 in /usr/local/lib/python3.10/dist-packages (from pexpect>4.3->IPython->note_seq->mt3==0.0.1) (0.7.0)\n",
            "Requirement already satisfied: wcwidth in /usr/local/lib/python3.10/dist-packages (from prompt-toolkit!=3.0.0,!=3.0.1,<3.1.0,>=2.0.0->IPython->note_seq->mt3==0.0.1) (0.2.13)\n",
            "Requirement already satisfied: tf-keras>=2.14.1 in /usr/local/lib/python3.10/dist-packages (from tensorflow-hub>=0.13.0->tensorflow-text->seqio@ git+https://github.com/google/seqio#egg=seqio->mt3==0.0.1) (2.15.1)\n",
            "Requirement already satisfied: typing-inspect>=0.4.0 in /usr/local/lib/python3.10/dist-packages (from libcst->fiddle>=0.2.5->t5x@ git+https://github.com/google-research/t5x#egg=t5x->mt3==0.0.1) (0.9.0)\n",
            "Requirement already satisfied: contextlib2 in /usr/local/lib/python3.10/dist-packages (from ml_collections->clu@ git+https://github.com/google/CommonLoopUtils#egg=clu->t5x@ git+https://github.com/google-research/t5x#egg=t5x->mt3==0.0.1) (21.6.0)\n",
            "Requirement already satisfied: pyasn1<0.6.0,>=0.4.6 in /usr/local/lib/python3.10/dist-packages (from pyasn1-modules>=0.2.1->google-auth<3,>=1.6.3->tensorboard<2.16,>=2.15->tensorflow->mt3==0.0.1) (0.5.1)\n",
            "Requirement already satisfied: oauthlib>=3.0.0 in /usr/local/lib/python3.10/dist-packages (from requests-oauthlib>=0.7.0->google-auth-oauthlib<2,>=0.5->tensorboard<2.16,>=2.15->tensorflow->mt3==0.0.1) (3.2.2)\n",
            "Requirement already satisfied: mypy-extensions>=0.3.0 in /usr/local/lib/python3.10/dist-packages (from typing-inspect>=0.4.0->libcst->fiddle>=0.2.5->t5x@ git+https://github.com/google-research/t5x#egg=t5x->mt3==0.0.1) (1.0.0)\n",
            "Requirement already satisfied: typeguard==2.13.3 in /usr/local/lib/python3.10/dist-packages (from jaxtyping->grain-nightly==0.0.6->airio@ git+https://github.com/google/airio#egg=airio->t5x@ git+https://github.com/google-research/t5x#egg=t5x->mt3==0.0.1) (2.13.3)\n",
            "Installing collected packages: mt3\n",
            "  Attempting uninstall: mt3\n",
            "    Found existing installation: mt3 0.0.1\n",
            "    Uninstalling mt3-0.0.1:\n",
            "      Successfully uninstalled mt3-0.0.1\n",
            "  Running setup.py develop for mt3\n",
            "Successfully installed mt3\n"
          ]
        },
        {
          "output_type": "display_data",
          "data": {
            "text/plain": [
              "<IPython.core.display.HTML object>"
            ],
            "text/html": [
              "\n",
              "<!-- Global site tag (gtag.js) - Google Analytics -->\n",
              "<script async src=\"https://www.googletagmanager.com/gtag/js?id=G-4P250YRJ08\"></script>\n",
              "<script>\n",
              "  window.dataLayer = window.dataLayer || [];\n",
              "  function gtag(){dataLayer.push(arguments);}\n",
              "  gtag('js', new Date());\n",
              "  gtag('config', 'G-4P250YRJ08',\n",
              "       {'referrer': document.referrer.split('?')[0],\n",
              "        'anonymize_ip': true,\n",
              "        'page_title': '',\n",
              "        'page_referrer': '',\n",
              "        'cookie_prefix': 'magenta',\n",
              "        'cookie_domain': 'auto',\n",
              "        'cookie_expires': 0,\n",
              "        'cookie_flags': 'SameSite=None;Secure'});\n",
              "</script>\n"
            ]
          },
          "metadata": {}
        },
        {
          "output_type": "display_data",
          "data": {
            "text/plain": [
              "<IPython.core.display.Javascript object>"
            ],
            "application/javascript": [
              "gtag('event', 'setupComplete', {});"
            ]
          },
          "metadata": {}
        }
      ],
      "source": [
        "# Copyright 2021 Google LLC. All Rights Reserved.\n",
        "\n",
        "# Licensed under the Apache License, Version 2.0 (the \"License\");\n",
        "# you may not use this file except in compliance with the License.\n",
        "# You may obtain a copy of the License at\n",
        "\n",
        "#     http://www.apache.org/licenses/LICENSE-2.0\n",
        "\n",
        "# Unless required by applicable law or agreed to in writing, software\n",
        "# distributed under the License is distributed on an \"AS IS\" BASIS,\n",
        "# WITHOUT WARRANTIES OR CONDITIONS OF ANY KIND, either express or implied.\n",
        "# See the License for the specific language governing permissions and\n",
        "# limitations under the License.\n",
        "# ==============================================================================\n",
        "\n",
        "#@title Setup Environment\n",
        "#@markdown Install MT3 and its dependencies (may take a few minutes).\n",
        "\n",
        "!nvidia-smi\n",
        "!pip install --upgrade \"jax[cuda122]\" -f https://storage.googleapis.com/jax-releases/jax_releases.html\n",
        "\n",
        "!apt-get update -qq && apt-get install -qq libfluidsynth3 build-essential libasound2-dev libjack-dev\n",
        "\n",
        "# install mt3\n",
        "!git clone --branch=main https://github.com/magenta/mt3\n",
        "!mv mt3 mt3_tmp; mv mt3_tmp/* .; rm -r mt3_tmp\n",
        "!python3 -m pip install jax[cuda11_local] nest-asyncio pyfluidsynth==1.3.0 -e . -f https://storage.googleapis.com/jax-releases/jax_cuda_releases.html\n",
        "\n",
        "# copy checkpoints\n",
        "!gsutil -q -m cp -r gs://mt3/checkpoints .\n",
        "\n",
        "# copy soundfont (originally from https://sites.google.com/site/soundfonts4u)\n",
        "!gsutil -q -m cp gs://magentadata/soundfonts/SGM-v2.01-Sal-Guit-Bass-V1.3.sf2 .\n",
        "\n",
        "import json\n",
        "import IPython\n",
        "\n",
        "# The below functions (load_gtag and log_event) handle Google Analytics event\n",
        "# logging. The logging is anonymous and stores only very basic statistics of the\n",
        "# audio and transcription e.g. length of audio, number of transcribed notes.\n",
        "\n",
        "def load_gtag():\n",
        "  \"\"\"Loads gtag.js.\"\"\"\n",
        "  # Note: gtag.js MUST be loaded in the same cell execution as the one doing\n",
        "  # synthesis. It does NOT persist across cell executions!\n",
        "  html_code = '''\n",
        "<!-- Global site tag (gtag.js) - Google Analytics -->\n",
        "<script async src=\"https://www.googletagmanager.com/gtag/js?id=G-4P250YRJ08\"></script>\n",
        "<script>\n",
        "  window.dataLayer = window.dataLayer || [];\n",
        "  function gtag(){dataLayer.push(arguments);}\n",
        "  gtag('js', new Date());\n",
        "  gtag('config', 'G-4P250YRJ08',\n",
        "       {'referrer': document.referrer.split('?')[0],\n",
        "        'anonymize_ip': true,\n",
        "        'page_title': '',\n",
        "        'page_referrer': '',\n",
        "        'cookie_prefix': 'magenta',\n",
        "        'cookie_domain': 'auto',\n",
        "        'cookie_expires': 0,\n",
        "        'cookie_flags': 'SameSite=None;Secure'});\n",
        "</script>\n",
        "'''\n",
        "  IPython.display.display(IPython.display.HTML(html_code))\n",
        "\n",
        "def log_event(event_name, event_details):\n",
        "  \"\"\"Log event with name and details dictionary.\"\"\"\n",
        "  details_json = json.dumps(event_details)\n",
        "  js_string = \"gtag('event', '%s', %s);\" % (event_name, details_json)\n",
        "  IPython.display.display(IPython.display.Javascript(js_string))\n",
        "\n",
        "load_gtag()\n",
        "log_event('setupComplete', {})"
      ]
    },
    {
      "cell_type": "code",
      "execution_count": null,
      "metadata": {
        "id": "TSMSWDxxWmTS"
      },
      "outputs": [],
      "source": [
        "#@title Imports and Definitions\n",
        "\n",
        "import functools\n",
        "import os\n",
        "\n",
        "import numpy as np\n",
        "import tensorflow.compat.v2 as tf\n",
        "\n",
        "import functools\n",
        "import gin\n",
        "import jax\n",
        "import librosa\n",
        "import note_seq\n",
        "import seqio\n",
        "import t5\n",
        "import t5x\n",
        "\n",
        "from mt3 import metrics_utils\n",
        "from mt3 import models\n",
        "from mt3 import network\n",
        "from mt3 import note_sequences\n",
        "from mt3 import preprocessors\n",
        "from mt3 import spectrograms\n",
        "from mt3 import vocabularies\n",
        "\n",
        "from google.colab import files\n",
        "\n",
        "import nest_asyncio\n",
        "nest_asyncio.apply()\n",
        "\n",
        "SAMPLE_RATE = 16000\n",
        "SF2_PATH = 'SGM-v2.01-Sal-Guit-Bass-V1.3.sf2'\n",
        "\n",
        "def upload_audio(sample_rate):\n",
        "  data = list(files.upload().values())\n",
        "  if len(data) > 1:\n",
        "    print('Multiple files uploaded; using only one.')\n",
        "  return note_seq.audio_io.wav_data_to_samples_librosa(\n",
        "    data[0], sample_rate=sample_rate)\n",
        "\n",
        "\n",
        "\n",
        "class InferenceModel(object):\n",
        "  \"\"\"Wrapper of T5X model for music transcription.\"\"\"\n",
        "\n",
        "  def __init__(self, checkpoint_path, model_type='mt3'):\n",
        "\n",
        "    # Model Constants.\n",
        "    if model_type == 'ismir2021':\n",
        "      num_velocity_bins = 127\n",
        "      self.encoding_spec = note_sequences.NoteEncodingSpec\n",
        "      self.inputs_length = 512\n",
        "    elif model_type == 'mt3':\n",
        "      num_velocity_bins = 1\n",
        "      self.encoding_spec = note_sequences.NoteEncodingWithTiesSpec\n",
        "      self.inputs_length = 256\n",
        "    else:\n",
        "      raise ValueError('unknown model_type: %s' % model_type)\n",
        "\n",
        "    gin_files = ['/content/mt3/gin/model.gin',\n",
        "                 f'/content/mt3/gin/{model_type}.gin']\n",
        "\n",
        "    self.batch_size = 8\n",
        "    self.outputs_length = 1024\n",
        "    self.sequence_length = {'inputs': self.inputs_length,\n",
        "                            'targets': self.outputs_length}\n",
        "\n",
        "    self.partitioner = t5x.partitioning.PjitPartitioner(\n",
        "        num_partitions=1)\n",
        "\n",
        "    # Build Codecs and Vocabularies.\n",
        "    self.spectrogram_config = spectrograms.SpectrogramConfig()\n",
        "    self.codec = vocabularies.build_codec(\n",
        "        vocab_config=vocabularies.VocabularyConfig(\n",
        "            num_velocity_bins=num_velocity_bins))\n",
        "    self.vocabulary = vocabularies.vocabulary_from_codec(self.codec)\n",
        "    self.output_features = {\n",
        "        'inputs': seqio.ContinuousFeature(dtype=tf.float32, rank=2),\n",
        "        'targets': seqio.Feature(vocabulary=self.vocabulary),\n",
        "    }\n",
        "\n",
        "    # Create a T5X model.\n",
        "    self._parse_gin(gin_files)\n",
        "    self.model = self._load_model()\n",
        "\n",
        "    # Restore from checkpoint.\n",
        "    self.restore_from_checkpoint(checkpoint_path)\n",
        "\n",
        "  @property\n",
        "  def input_shapes(self):\n",
        "    return {\n",
        "          'encoder_input_tokens': (self.batch_size, self.inputs_length),\n",
        "          'decoder_input_tokens': (self.batch_size, self.outputs_length)\n",
        "    }\n",
        "\n",
        "  def _parse_gin(self, gin_files):\n",
        "    \"\"\"Parse gin files used to train the model.\"\"\"\n",
        "    gin_bindings = [\n",
        "        'from __gin__ import dynamic_registration',\n",
        "        'from mt3 import vocabularies',\n",
        "        'VOCAB_CONFIG=@vocabularies.VocabularyConfig()',\n",
        "        'vocabularies.VocabularyConfig.num_velocity_bins=%NUM_VELOCITY_BINS'\n",
        "    ]\n",
        "    with gin.unlock_config():\n",
        "      gin.parse_config_files_and_bindings(\n",
        "          gin_files, gin_bindings, finalize_config=False)\n",
        "\n",
        "  def _load_model(self):\n",
        "    \"\"\"Load up a T5X `Model` after parsing training gin config.\"\"\"\n",
        "    model_config = gin.get_configurable(network.T5Config)()\n",
        "    module = network.Transformer(config=model_config)\n",
        "    return models.ContinuousInputsEncoderDecoderModel(\n",
        "        module=module,\n",
        "        input_vocabulary=self.output_features['inputs'].vocabulary,\n",
        "        output_vocabulary=self.output_features['targets'].vocabulary,\n",
        "        optimizer_def=t5x.adafactor.Adafactor(decay_rate=0.8, step_offset=0),\n",
        "        input_depth=spectrograms.input_depth(self.spectrogram_config))\n",
        "\n",
        "\n",
        "  def restore_from_checkpoint(self, checkpoint_path):\n",
        "    \"\"\"Restore training state from checkpoint, resets self._predict_fn().\"\"\"\n",
        "    train_state_initializer = t5x.utils.TrainStateInitializer(\n",
        "      optimizer_def=self.model.optimizer_def,\n",
        "      init_fn=self.model.get_initial_variables,\n",
        "      input_shapes=self.input_shapes,\n",
        "      partitioner=self.partitioner)\n",
        "\n",
        "    restore_checkpoint_cfg = t5x.utils.RestoreCheckpointConfig(\n",
        "        path=checkpoint_path, mode='specific', dtype='float32')\n",
        "\n",
        "    train_state_axes = train_state_initializer.train_state_axes\n",
        "    self._predict_fn = self._get_predict_fn(train_state_axes)\n",
        "    self._train_state = train_state_initializer.from_checkpoint_or_scratch(\n",
        "        [restore_checkpoint_cfg], init_rng=jax.random.PRNGKey(0))\n",
        "\n",
        "  @functools.lru_cache()\n",
        "  def _get_predict_fn(self, train_state_axes):\n",
        "    \"\"\"Generate a partitioned prediction function for decoding.\"\"\"\n",
        "    def partial_predict_fn(params, batch, decode_rng):\n",
        "      return self.model.predict_batch_with_aux(\n",
        "          params, batch, decoder_params={'decode_rng': None})\n",
        "    return self.partitioner.partition(\n",
        "        partial_predict_fn,\n",
        "        in_axis_resources=(\n",
        "            train_state_axes.params,\n",
        "            t5x.partitioning.PartitionSpec('data',), None),\n",
        "        out_axis_resources=t5x.partitioning.PartitionSpec('data',)\n",
        "    )\n",
        "\n",
        "  def predict_tokens(self, batch, seed=0):\n",
        "    \"\"\"Predict tokens from preprocessed dataset batch.\"\"\"\n",
        "    prediction, _ = self._predict_fn(\n",
        "        self._train_state.params, batch, jax.random.PRNGKey(seed))\n",
        "    return self.vocabulary.decode_tf(prediction).numpy()\n",
        "\n",
        "  def __call__(self, audio):\n",
        "    \"\"\"Infer note sequence from audio samples.\n",
        "\n",
        "    Args:\n",
        "      audio: 1-d numpy array of audio samples (16kHz) for a single example.\n",
        "\n",
        "    Returns:\n",
        "      A note_sequence of the transcribed audio.\n",
        "    \"\"\"\n",
        "    ds = self.audio_to_dataset(audio)\n",
        "    ds = self.preprocess(ds)\n",
        "\n",
        "    model_ds = self.model.FEATURE_CONVERTER_CLS(pack=False)(\n",
        "        ds, task_feature_lengths=self.sequence_length)\n",
        "    model_ds = model_ds.batch(self.batch_size)\n",
        "\n",
        "    inferences = (tokens for batch in model_ds.as_numpy_iterator()\n",
        "                  for tokens in self.predict_tokens(batch))\n",
        "\n",
        "    predictions = []\n",
        "    for example, tokens in zip(ds.as_numpy_iterator(), inferences):\n",
        "      predictions.append(self.postprocess(tokens, example))\n",
        "\n",
        "    result = metrics_utils.event_predictions_to_ns(\n",
        "        predictions, codec=self.codec, encoding_spec=self.encoding_spec)\n",
        "    return result['est_ns']\n",
        "\n",
        "  def audio_to_dataset(self, audio):\n",
        "    \"\"\"Create a TF Dataset of spectrograms from input audio.\"\"\"\n",
        "    frames, frame_times = self._audio_to_frames(audio)\n",
        "    return tf.data.Dataset.from_tensors({\n",
        "        'inputs': frames,\n",
        "        'input_times': frame_times,\n",
        "    })\n",
        "\n",
        "  def _audio_to_frames(self, audio):\n",
        "    \"\"\"Compute spectrogram frames from audio.\"\"\"\n",
        "    frame_size = self.spectrogram_config.hop_width\n",
        "    padding = [0, frame_size - len(audio) % frame_size]\n",
        "    audio = np.pad(audio, padding, mode='constant')\n",
        "    frames = spectrograms.split_audio(audio, self.spectrogram_config)\n",
        "    num_frames = len(audio) // frame_size\n",
        "    times = np.arange(num_frames) / self.spectrogram_config.frames_per_second\n",
        "    return frames, times\n",
        "\n",
        "  def preprocess(self, ds):\n",
        "    pp_chain = [\n",
        "        functools.partial(\n",
        "            t5.data.preprocessors.split_tokens_to_inputs_length,\n",
        "            sequence_length=self.sequence_length,\n",
        "            output_features=self.output_features,\n",
        "            feature_key='inputs',\n",
        "            additional_feature_keys=['input_times']),\n",
        "        # Cache occurs here during training.\n",
        "        preprocessors.add_dummy_targets,\n",
        "        functools.partial(\n",
        "            preprocessors.compute_spectrograms,\n",
        "            spectrogram_config=self.spectrogram_config)\n",
        "    ]\n",
        "    for pp in pp_chain:\n",
        "      ds = pp(ds)\n",
        "    return ds\n",
        "\n",
        "  def postprocess(self, tokens, example):\n",
        "    tokens = self._trim_eos(tokens)\n",
        "    start_time = example['input_times'][0]\n",
        "    # Round down to nearest symbolic token step.\n",
        "    start_time -= start_time % (1 / self.codec.steps_per_second)\n",
        "    return {\n",
        "        'est_tokens': tokens,\n",
        "        'start_time': start_time,\n",
        "        # Internal MT3 code expects raw inputs, not used here.\n",
        "        'raw_inputs': []\n",
        "    }\n",
        "\n",
        "  @staticmethod\n",
        "  def _trim_eos(tokens):\n",
        "    tokens = np.array(tokens, np.int32)\n",
        "    if vocabularies.DECODED_EOS_ID in tokens:\n",
        "      tokens = tokens[:np.argmax(tokens == vocabularies.DECODED_EOS_ID)]\n",
        "    return tokens\n",
        "\n"
      ]
    },
    {
      "cell_type": "code",
      "execution_count": null,
      "metadata": {
        "id": "yGQ-zpgy3raf",
        "colab": {
          "base_uri": "https://localhost:8080/",
          "height": 17
        },
        "outputId": "759d3fa8-52c6-4739-a9d9-c74c7a23d519"
      },
      "outputs": [
        {
          "output_type": "display_data",
          "data": {
            "text/plain": [
              "<IPython.core.display.HTML object>"
            ],
            "text/html": [
              "\n",
              "<!-- Global site tag (gtag.js) - Google Analytics -->\n",
              "<script async src=\"https://www.googletagmanager.com/gtag/js?id=G-4P250YRJ08\"></script>\n",
              "<script>\n",
              "  window.dataLayer = window.dataLayer || [];\n",
              "  function gtag(){dataLayer.push(arguments);}\n",
              "  gtag('js', new Date());\n",
              "  gtag('config', 'G-4P250YRJ08',\n",
              "       {'referrer': document.referrer.split('?')[0],\n",
              "        'anonymize_ip': true,\n",
              "        'page_title': '',\n",
              "        'page_referrer': '',\n",
              "        'cookie_prefix': 'magenta',\n",
              "        'cookie_domain': 'auto',\n",
              "        'cookie_expires': 0,\n",
              "        'cookie_flags': 'SameSite=None;Secure'});\n",
              "</script>\n"
            ]
          },
          "metadata": {}
        },
        {
          "output_type": "display_data",
          "data": {
            "text/plain": [
              "<IPython.core.display.Javascript object>"
            ],
            "application/javascript": [
              "gtag('event', 'loadModelStart', {\"event_category\": \"ismir2021\"});"
            ]
          },
          "metadata": {}
        },
        {
          "output_type": "display_data",
          "data": {
            "text/plain": [
              "<IPython.core.display.Javascript object>"
            ],
            "application/javascript": [
              "gtag('event', 'loadModelComplete', {\"event_category\": \"ismir2021\"});"
            ]
          },
          "metadata": {}
        }
      ],
      "source": [
        "#@title Load Model\n",
        "#@markdown The `ismir2021` model transcribes piano only, with note velocities.\n",
        "#@markdown The `mt3` model transcribes multiple simultaneous instruments,\n",
        "#@markdown but without velocities.\n",
        "\n",
        "MODEL = \"ismir2021\" #@param[\"ismir2021\", \"mt3\"]\n",
        "\n",
        "checkpoint_path = f'/content/checkpoints/{MODEL}/'\n",
        "\n",
        "load_gtag()\n",
        "\n",
        "log_event('loadModelStart', {'event_category': MODEL})\n",
        "inference_model = InferenceModel(checkpoint_path, MODEL)\n",
        "log_event('loadModelComplete', {'event_category': MODEL})\n"
      ]
    },
    {
      "cell_type": "code",
      "execution_count": null,
      "metadata": {
        "id": "s2s3JAvBAgFB",
        "colab": {
          "base_uri": "https://localhost:8080/",
          "height": 436
        },
        "outputId": "20ea8480-e584-457f-8d09-02235a6342b8"
      },
      "outputs": [
        {
          "metadata": {
            "tags": null
          },
          "name": "stdout",
          "output_type": "stream",
          "text": [
            "Drive already mounted at /content/drive; to attempt to forcibly remount, call drive.mount(\"/content/drive\", force_remount=True).\n"
          ]
        },
        {
          "data": {
            "text/html": [
              "\n",
              "<!-- Global site tag (gtag.js) - Google Analytics -->\n",
              "<script async src=\"https://www.googletagmanager.com/gtag/js?id=G-4P250YRJ08\"></script>\n",
              "<script>\n",
              "  window.dataLayer = window.dataLayer || [];\n",
              "  function gtag(){dataLayer.push(arguments);}\n",
              "  gtag('js', new Date());\n",
              "  gtag('config', 'G-4P250YRJ08',\n",
              "       {'referrer': document.referrer.split('?')[0],\n",
              "        'anonymize_ip': true,\n",
              "        'page_title': '',\n",
              "        'page_referrer': '',\n",
              "        'cookie_prefix': 'magenta',\n",
              "        'cookie_domain': 'auto',\n",
              "        'cookie_expires': 0,\n",
              "        'cookie_flags': 'SameSite=None;Secure'});\n",
              "</script>\n"
            ],
            "text/plain": [
              "<IPython.core.display.HTML object>"
            ]
          },
          "metadata": {},
          "output_type": "display_data"
        },
        {
          "data": {
            "application/javascript": [
              "gtag('event', 'uploadAudioComplete', {\"value\": 106});"
            ],
            "text/plain": [
              "<IPython.core.display.Javascript object>"
            ]
          },
          "metadata": {},
          "output_type": "display_data"
        },
        {
          "data": {
            "application/javascript": [
              "gtag('event', 'transcribeStart', {\"event_category\": \"ismir2021\", \"value\": 106});"
            ],
            "text/plain": [
              "<IPython.core.display.Javascript object>"
            ]
          },
          "metadata": {},
          "output_type": "display_data"
        },
        {
          "data": {
            "application/javascript": [
              "gtag('event', 'transcribeComplete', {\"event_category\": \"ismir2021\", \"value\": 106});"
            ],
            "text/plain": [
              "<IPython.core.display.Javascript object>"
            ]
          },
          "metadata": {},
          "output_type": "display_data"
        },
        {
          "metadata": {
            "tags": null
          },
          "name": "stdout",
          "output_type": "stream",
          "text": [
            "Processed 14_03.wav to OMAPS2/evaluation/MT3-piano/14_03.mid\n"
          ]
        },
        {
          "data": {
            "text/html": [
              "\n",
              "<!-- Global site tag (gtag.js) - Google Analytics -->\n",
              "<script async src=\"https://www.googletagmanager.com/gtag/js?id=G-4P250YRJ08\"></script>\n",
              "<script>\n",
              "  window.dataLayer = window.dataLayer || [];\n",
              "  function gtag(){dataLayer.push(arguments);}\n",
              "  gtag('js', new Date());\n",
              "  gtag('config', 'G-4P250YRJ08',\n",
              "       {'referrer': document.referrer.split('?')[0],\n",
              "        'anonymize_ip': true,\n",
              "        'page_title': '',\n",
              "        'page_referrer': '',\n",
              "        'cookie_prefix': 'magenta',\n",
              "        'cookie_domain': 'auto',\n",
              "        'cookie_expires': 0,\n",
              "        'cookie_flags': 'SameSite=None;Secure'});\n",
              "</script>\n"
            ],
            "text/plain": [
              "<IPython.core.display.HTML object>"
            ]
          },
          "metadata": {},
          "output_type": "display_data"
        },
        {
          "data": {
            "application/javascript": [
              "gtag('event', 'uploadAudioComplete', {\"value\": 122});"
            ],
            "text/plain": [
              "<IPython.core.display.Javascript object>"
            ]
          },
          "metadata": {},
          "output_type": "display_data"
        },
        {
          "data": {
            "application/javascript": [
              "gtag('event', 'transcribeStart', {\"event_category\": \"ismir2021\", \"value\": 122});"
            ],
            "text/plain": [
              "<IPython.core.display.Javascript object>"
            ]
          },
          "metadata": {},
          "output_type": "display_data"
        },
        {
          "data": {
            "application/javascript": [
              "gtag('event', 'transcribeComplete', {\"event_category\": \"ismir2021\", \"value\": 122});"
            ],
            "text/plain": [
              "<IPython.core.display.Javascript object>"
            ]
          },
          "metadata": {},
          "output_type": "display_data"
        },
        {
          "metadata": {
            "tags": null
          },
          "name": "stdout",
          "output_type": "stream",
          "text": [
            "Processed yty2_1.wav to OMAPS2/evaluation/MT3-piano/yty2_1.mid\n"
          ]
        },
        {
          "data": {
            "text/html": [
              "\n",
              "<!-- Global site tag (gtag.js) - Google Analytics -->\n",
              "<script async src=\"https://www.googletagmanager.com/gtag/js?id=G-4P250YRJ08\"></script>\n",
              "<script>\n",
              "  window.dataLayer = window.dataLayer || [];\n",
              "  function gtag(){dataLayer.push(arguments);}\n",
              "  gtag('js', new Date());\n",
              "  gtag('config', 'G-4P250YRJ08',\n",
              "       {'referrer': document.referrer.split('?')[0],\n",
              "        'anonymize_ip': true,\n",
              "        'page_title': '',\n",
              "        'page_referrer': '',\n",
              "        'cookie_prefix': 'magenta',\n",
              "        'cookie_domain': 'auto',\n",
              "        'cookie_expires': 0,\n",
              "        'cookie_flags': 'SameSite=None;Secure'});\n",
              "</script>\n"
            ],
            "text/plain": [
              "<IPython.core.display.HTML object>"
            ]
          },
          "metadata": {},
          "output_type": "display_data"
        },
        {
          "data": {
            "application/javascript": [
              "gtag('event', 'uploadAudioComplete', {\"value\": 83});"
            ],
            "text/plain": [
              "<IPython.core.display.Javascript object>"
            ]
          },
          "metadata": {},
          "output_type": "display_data"
        },
        {
          "data": {
            "application/javascript": [
              "gtag('event', 'transcribeStart', {\"event_category\": \"ismir2021\", \"value\": 83});"
            ],
            "text/plain": [
              "<IPython.core.display.Javascript object>"
            ]
          },
          "metadata": {},
          "output_type": "display_data"
        },
        {
          "data": {
            "application/javascript": [
              "gtag('event', 'transcribeComplete', {\"event_category\": \"ismir2021\", \"value\": 83});"
            ],
            "text/plain": [
              "<IPython.core.display.Javascript object>"
            ]
          },
          "metadata": {},
          "output_type": "display_data"
        },
        {
          "metadata": {
            "tags": null
          },
          "name": "stdout",
          "output_type": "stream",
          "text": [
            "Processed yty2_3.wav to OMAPS2/evaluation/MT3-piano/yty2_3.mid\n"
          ]
        },
        {
          "data": {
            "text/html": [
              "\n",
              "<!-- Global site tag (gtag.js) - Google Analytics -->\n",
              "<script async src=\"https://www.googletagmanager.com/gtag/js?id=G-4P250YRJ08\"></script>\n",
              "<script>\n",
              "  window.dataLayer = window.dataLayer || [];\n",
              "  function gtag(){dataLayer.push(arguments);}\n",
              "  gtag('js', new Date());\n",
              "  gtag('config', 'G-4P250YRJ08',\n",
              "       {'referrer': document.referrer.split('?')[0],\n",
              "        'anonymize_ip': true,\n",
              "        'page_title': '',\n",
              "        'page_referrer': '',\n",
              "        'cookie_prefix': 'magenta',\n",
              "        'cookie_domain': 'auto',\n",
              "        'cookie_expires': 0,\n",
              "        'cookie_flags': 'SameSite=None;Secure'});\n",
              "</script>\n"
            ],
            "text/plain": [
              "<IPython.core.display.HTML object>"
            ]
          },
          "metadata": {},
          "output_type": "display_data"
        },
        {
          "data": {
            "application/javascript": [
              "gtag('event', 'uploadAudioComplete', {\"value\": 111});"
            ],
            "text/plain": [
              "<IPython.core.display.Javascript object>"
            ]
          },
          "metadata": {},
          "output_type": "display_data"
        },
        {
          "data": {
            "application/javascript": [
              "gtag('event', 'transcribeStart', {\"event_category\": \"ismir2021\", \"value\": 111});"
            ],
            "text/plain": [
              "<IPython.core.display.Javascript object>"
            ]
          },
          "metadata": {},
          "output_type": "display_data"
        },
        {
          "data": {
            "application/javascript": [
              "gtag('event', 'transcribeComplete', {\"event_category\": \"ismir2021\", \"value\": 111});"
            ],
            "text/plain": [
              "<IPython.core.display.Javascript object>"
            ]
          },
          "metadata": {},
          "output_type": "display_data"
        },
        {
          "metadata": {
            "tags": null
          },
          "name": "stdout",
          "output_type": "stream",
          "text": [
            "Processed yty2_2.wav to OMAPS2/evaluation/MT3-piano/yty2_2.mid\n"
          ]
        },
        {
          "data": {
            "text/html": [
              "\n",
              "<!-- Global site tag (gtag.js) - Google Analytics -->\n",
              "<script async src=\"https://www.googletagmanager.com/gtag/js?id=G-4P250YRJ08\"></script>\n",
              "<script>\n",
              "  window.dataLayer = window.dataLayer || [];\n",
              "  function gtag(){dataLayer.push(arguments);}\n",
              "  gtag('js', new Date());\n",
              "  gtag('config', 'G-4P250YRJ08',\n",
              "       {'referrer': document.referrer.split('?')[0],\n",
              "        'anonymize_ip': true,\n",
              "        'page_title': '',\n",
              "        'page_referrer': '',\n",
              "        'cookie_prefix': 'magenta',\n",
              "        'cookie_domain': 'auto',\n",
              "        'cookie_expires': 0,\n",
              "        'cookie_flags': 'SameSite=None;Secure'});\n",
              "</script>\n"
            ],
            "text/plain": [
              "<IPython.core.display.HTML object>"
            ]
          },
          "metadata": {},
          "output_type": "display_data"
        },
        {
          "data": {
            "application/javascript": [
              "gtag('event', 'uploadAudioComplete', {\"value\": 102});"
            ],
            "text/plain": [
              "<IPython.core.display.Javascript object>"
            ]
          },
          "metadata": {},
          "output_type": "display_data"
        },
        {
          "data": {
            "application/javascript": [
              "gtag('event', 'transcribeStart', {\"event_category\": \"ismir2021\", \"value\": 102});"
            ],
            "text/plain": [
              "<IPython.core.display.Javascript object>"
            ]
          },
          "metadata": {},
          "output_type": "display_data"
        },
        {
          "data": {
            "application/javascript": [
              "gtag('event', 'transcribeComplete', {\"event_category\": \"ismir2021\", \"value\": 102});"
            ],
            "text/plain": [
              "<IPython.core.display.Javascript object>"
            ]
          },
          "metadata": {},
          "output_type": "display_data"
        },
        {
          "metadata": {
            "tags": null
          },
          "name": "stdout",
          "output_type": "stream",
          "text": [
            "Processed yty2_4.wav to OMAPS2/evaluation/MT3-piano/yty2_4.mid\n"
          ]
        },
        {
          "data": {
            "text/html": [
              "\n",
              "<!-- Global site tag (gtag.js) - Google Analytics -->\n",
              "<script async src=\"https://www.googletagmanager.com/gtag/js?id=G-4P250YRJ08\"></script>\n",
              "<script>\n",
              "  window.dataLayer = window.dataLayer || [];\n",
              "  function gtag(){dataLayer.push(arguments);}\n",
              "  gtag('js', new Date());\n",
              "  gtag('config', 'G-4P250YRJ08',\n",
              "       {'referrer': document.referrer.split('?')[0],\n",
              "        'anonymize_ip': true,\n",
              "        'page_title': '',\n",
              "        'page_referrer': '',\n",
              "        'cookie_prefix': 'magenta',\n",
              "        'cookie_domain': 'auto',\n",
              "        'cookie_expires': 0,\n",
              "        'cookie_flags': 'SameSite=None;Secure'});\n",
              "</script>\n"
            ],
            "text/plain": [
              "<IPython.core.display.HTML object>"
            ]
          },
          "metadata": {},
          "output_type": "display_data"
        },
        {
          "data": {
            "application/javascript": [
              "gtag('event', 'uploadAudioComplete', {\"value\": 107});"
            ],
            "text/plain": [
              "<IPython.core.display.Javascript object>"
            ]
          },
          "metadata": {},
          "output_type": "display_data"
        },
        {
          "data": {
            "application/javascript": [
              "gtag('event', 'transcribeStart', {\"event_category\": \"ismir2021\", \"value\": 107});"
            ],
            "text/plain": [
              "<IPython.core.display.Javascript object>"
            ]
          },
          "metadata": {},
          "output_type": "display_data"
        },
        {
          "data": {
            "application/javascript": [
              "gtag('event', 'transcribeComplete', {\"event_category\": \"ismir2021\", \"value\": 107});"
            ],
            "text/plain": [
              "<IPython.core.display.Javascript object>"
            ]
          },
          "metadata": {},
          "output_type": "display_data"
        },
        {
          "metadata": {
            "tags": null
          },
          "name": "stdout",
          "output_type": "stream",
          "text": [
            "Processed yty2_5.wav to OMAPS2/evaluation/MT3-piano/yty2_5.mid\n"
          ]
        },
        {
          "data": {
            "text/html": [
              "\n",
              "<!-- Global site tag (gtag.js) - Google Analytics -->\n",
              "<script async src=\"https://www.googletagmanager.com/gtag/js?id=G-4P250YRJ08\"></script>\n",
              "<script>\n",
              "  window.dataLayer = window.dataLayer || [];\n",
              "  function gtag(){dataLayer.push(arguments);}\n",
              "  gtag('js', new Date());\n",
              "  gtag('config', 'G-4P250YRJ08',\n",
              "       {'referrer': document.referrer.split('?')[0],\n",
              "        'anonymize_ip': true,\n",
              "        'page_title': '',\n",
              "        'page_referrer': '',\n",
              "        'cookie_prefix': 'magenta',\n",
              "        'cookie_domain': 'auto',\n",
              "        'cookie_expires': 0,\n",
              "        'cookie_flags': 'SameSite=None;Secure'});\n",
              "</script>\n"
            ],
            "text/plain": [
              "<IPython.core.display.HTML object>"
            ]
          },
          "metadata": {},
          "output_type": "display_data"
        },
        {
          "data": {
            "application/javascript": [
              "gtag('event', 'uploadAudioComplete', {\"value\": 109});"
            ],
            "text/plain": [
              "<IPython.core.display.Javascript object>"
            ]
          },
          "metadata": {},
          "output_type": "display_data"
        },
        {
          "data": {
            "application/javascript": [
              "gtag('event', 'transcribeStart', {\"event_category\": \"ismir2021\", \"value\": 109});"
            ],
            "text/plain": [
              "<IPython.core.display.Javascript object>"
            ]
          },
          "metadata": {},
          "output_type": "display_data"
        },
        {
          "data": {
            "application/javascript": [
              "gtag('event', 'transcribeComplete', {\"event_category\": \"ismir2021\", \"value\": 109});"
            ],
            "text/plain": [
              "<IPython.core.display.Javascript object>"
            ]
          },
          "metadata": {},
          "output_type": "display_data"
        },
        {
          "metadata": {
            "tags": null
          },
          "name": "stdout",
          "output_type": "stream",
          "text": [
            "Processed yty3_1.wav to OMAPS2/evaluation/MT3-piano/yty3_1.mid\n"
          ]
        },
        {
          "data": {
            "text/html": [
              "\n",
              "<!-- Global site tag (gtag.js) - Google Analytics -->\n",
              "<script async src=\"https://www.googletagmanager.com/gtag/js?id=G-4P250YRJ08\"></script>\n",
              "<script>\n",
              "  window.dataLayer = window.dataLayer || [];\n",
              "  function gtag(){dataLayer.push(arguments);}\n",
              "  gtag('js', new Date());\n",
              "  gtag('config', 'G-4P250YRJ08',\n",
              "       {'referrer': document.referrer.split('?')[0],\n",
              "        'anonymize_ip': true,\n",
              "        'page_title': '',\n",
              "        'page_referrer': '',\n",
              "        'cookie_prefix': 'magenta',\n",
              "        'cookie_domain': 'auto',\n",
              "        'cookie_expires': 0,\n",
              "        'cookie_flags': 'SameSite=None;Secure'});\n",
              "</script>\n"
            ],
            "text/plain": [
              "<IPython.core.display.HTML object>"
            ]
          },
          "metadata": {},
          "output_type": "display_data"
        },
        {
          "data": {
            "application/javascript": [
              "gtag('event', 'uploadAudioComplete', {\"value\": 100});"
            ],
            "text/plain": [
              "<IPython.core.display.Javascript object>"
            ]
          },
          "metadata": {},
          "output_type": "display_data"
        },
        {
          "data": {
            "application/javascript": [
              "gtag('event', 'transcribeStart', {\"event_category\": \"ismir2021\", \"value\": 100});"
            ],
            "text/plain": [
              "<IPython.core.display.Javascript object>"
            ]
          },
          "metadata": {},
          "output_type": "display_data"
        },
        {
          "data": {
            "application/javascript": [
              "gtag('event', 'transcribeComplete', {\"event_category\": \"ismir2021\", \"value\": 100});"
            ],
            "text/plain": [
              "<IPython.core.display.Javascript object>"
            ]
          },
          "metadata": {},
          "output_type": "display_data"
        },
        {
          "metadata": {
            "tags": null
          },
          "name": "stdout",
          "output_type": "stream",
          "text": [
            "Processed yty3_2.wav to OMAPS2/evaluation/MT3-piano/yty3_2.mid\n"
          ]
        },
        {
          "data": {
            "text/html": [
              "\n",
              "<!-- Global site tag (gtag.js) - Google Analytics -->\n",
              "<script async src=\"https://www.googletagmanager.com/gtag/js?id=G-4P250YRJ08\"></script>\n",
              "<script>\n",
              "  window.dataLayer = window.dataLayer || [];\n",
              "  function gtag(){dataLayer.push(arguments);}\n",
              "  gtag('js', new Date());\n",
              "  gtag('config', 'G-4P250YRJ08',\n",
              "       {'referrer': document.referrer.split('?')[0],\n",
              "        'anonymize_ip': true,\n",
              "        'page_title': '',\n",
              "        'page_referrer': '',\n",
              "        'cookie_prefix': 'magenta',\n",
              "        'cookie_domain': 'auto',\n",
              "        'cookie_expires': 0,\n",
              "        'cookie_flags': 'SameSite=None;Secure'});\n",
              "</script>\n"
            ],
            "text/plain": [
              "<IPython.core.display.HTML object>"
            ]
          },
          "metadata": {},
          "output_type": "display_data"
        },
        {
          "data": {
            "application/javascript": [
              "gtag('event', 'uploadAudioComplete', {\"value\": 90});"
            ],
            "text/plain": [
              "<IPython.core.display.Javascript object>"
            ]
          },
          "metadata": {},
          "output_type": "display_data"
        },
        {
          "data": {
            "application/javascript": [
              "gtag('event', 'transcribeStart', {\"event_category\": \"ismir2021\", \"value\": 90});"
            ],
            "text/plain": [
              "<IPython.core.display.Javascript object>"
            ]
          },
          "metadata": {},
          "output_type": "display_data"
        },
        {
          "data": {
            "application/javascript": [
              "gtag('event', 'transcribeComplete', {\"event_category\": \"ismir2021\", \"value\": 90});"
            ],
            "text/plain": [
              "<IPython.core.display.Javascript object>"
            ]
          },
          "metadata": {},
          "output_type": "display_data"
        },
        {
          "metadata": {
            "tags": null
          },
          "name": "stdout",
          "output_type": "stream",
          "text": [
            "Processed yty3_3.wav to OMAPS2/evaluation/MT3-piano/yty3_3.mid\n"
          ]
        },
        {
          "data": {
            "text/html": [
              "\n",
              "<!-- Global site tag (gtag.js) - Google Analytics -->\n",
              "<script async src=\"https://www.googletagmanager.com/gtag/js?id=G-4P250YRJ08\"></script>\n",
              "<script>\n",
              "  window.dataLayer = window.dataLayer || [];\n",
              "  function gtag(){dataLayer.push(arguments);}\n",
              "  gtag('js', new Date());\n",
              "  gtag('config', 'G-4P250YRJ08',\n",
              "       {'referrer': document.referrer.split('?')[0],\n",
              "        'anonymize_ip': true,\n",
              "        'page_title': '',\n",
              "        'page_referrer': '',\n",
              "        'cookie_prefix': 'magenta',\n",
              "        'cookie_domain': 'auto',\n",
              "        'cookie_expires': 0,\n",
              "        'cookie_flags': 'SameSite=None;Secure'});\n",
              "</script>\n"
            ],
            "text/plain": [
              "<IPython.core.display.HTML object>"
            ]
          },
          "metadata": {},
          "output_type": "display_data"
        },
        {
          "data": {
            "application/javascript": [
              "gtag('event', 'uploadAudioComplete', {\"value\": 148});"
            ],
            "text/plain": [
              "<IPython.core.display.Javascript object>"
            ]
          },
          "metadata": {},
          "output_type": "display_data"
        },
        {
          "data": {
            "application/javascript": [
              "gtag('event', 'transcribeStart', {\"event_category\": \"ismir2021\", \"value\": 148});"
            ],
            "text/plain": [
              "<IPython.core.display.Javascript object>"
            ]
          },
          "metadata": {},
          "output_type": "display_data"
        },
        {
          "data": {
            "application/javascript": [
              "gtag('event', 'transcribeComplete', {\"event_category\": \"ismir2021\", \"value\": 148});"
            ],
            "text/plain": [
              "<IPython.core.display.Javascript object>"
            ]
          },
          "metadata": {},
          "output_type": "display_data"
        },
        {
          "metadata": {
            "tags": null
          },
          "name": "stdout",
          "output_type": "stream",
          "text": [
            "Processed yty3_4.wav to OMAPS2/evaluation/MT3-piano/yty3_4.mid\n"
          ]
        },
        {
          "data": {
            "text/html": [
              "\n",
              "<!-- Global site tag (gtag.js) - Google Analytics -->\n",
              "<script async src=\"https://www.googletagmanager.com/gtag/js?id=G-4P250YRJ08\"></script>\n",
              "<script>\n",
              "  window.dataLayer = window.dataLayer || [];\n",
              "  function gtag(){dataLayer.push(arguments);}\n",
              "  gtag('js', new Date());\n",
              "  gtag('config', 'G-4P250YRJ08',\n",
              "       {'referrer': document.referrer.split('?')[0],\n",
              "        'anonymize_ip': true,\n",
              "        'page_title': '',\n",
              "        'page_referrer': '',\n",
              "        'cookie_prefix': 'magenta',\n",
              "        'cookie_domain': 'auto',\n",
              "        'cookie_expires': 0,\n",
              "        'cookie_flags': 'SameSite=None;Secure'});\n",
              "</script>\n"
            ],
            "text/plain": [
              "<IPython.core.display.HTML object>"
            ]
          },
          "metadata": {},
          "output_type": "display_data"
        },
        {
          "data": {
            "application/javascript": [
              "gtag('event', 'uploadAudioComplete', {\"value\": 110});"
            ],
            "text/plain": [
              "<IPython.core.display.Javascript object>"
            ]
          },
          "metadata": {},
          "output_type": "display_data"
        },
        {
          "data": {
            "application/javascript": [
              "gtag('event', 'transcribeStart', {\"event_category\": \"ismir2021\", \"value\": 110});"
            ],
            "text/plain": [
              "<IPython.core.display.Javascript object>"
            ]
          },
          "metadata": {},
          "output_type": "display_data"
        },
        {
          "data": {
            "application/javascript": [
              "gtag('event', 'transcribeComplete', {\"event_category\": \"ismir2021\", \"value\": 110});"
            ],
            "text/plain": [
              "<IPython.core.display.Javascript object>"
            ]
          },
          "metadata": {},
          "output_type": "display_data"
        },
        {
          "metadata": {
            "tags": null
          },
          "name": "stdout",
          "output_type": "stream",
          "text": [
            "Processed yty3_5.wav to OMAPS2/evaluation/MT3-piano/yty3_5.mid\n"
          ]
        },
        {
          "data": {
            "text/html": [
              "\n",
              "<!-- Global site tag (gtag.js) - Google Analytics -->\n",
              "<script async src=\"https://www.googletagmanager.com/gtag/js?id=G-4P250YRJ08\"></script>\n",
              "<script>\n",
              "  window.dataLayer = window.dataLayer || [];\n",
              "  function gtag(){dataLayer.push(arguments);}\n",
              "  gtag('js', new Date());\n",
              "  gtag('config', 'G-4P250YRJ08',\n",
              "       {'referrer': document.referrer.split('?')[0],\n",
              "        'anonymize_ip': true,\n",
              "        'page_title': '',\n",
              "        'page_referrer': '',\n",
              "        'cookie_prefix': 'magenta',\n",
              "        'cookie_domain': 'auto',\n",
              "        'cookie_expires': 0,\n",
              "        'cookie_flags': 'SameSite=None;Secure'});\n",
              "</script>\n"
            ],
            "text/plain": [
              "<IPython.core.display.HTML object>"
            ]
          },
          "metadata": {},
          "output_type": "display_data"
        },
        {
          "data": {
            "application/javascript": [
              "gtag('event', 'uploadAudioComplete', {\"value\": 48});"
            ],
            "text/plain": [
              "<IPython.core.display.Javascript object>"
            ]
          },
          "metadata": {},
          "output_type": "display_data"
        },
        {
          "data": {
            "application/javascript": [
              "gtag('event', 'transcribeStart', {\"event_category\": \"ismir2021\", \"value\": 48});"
            ],
            "text/plain": [
              "<IPython.core.display.Javascript object>"
            ]
          },
          "metadata": {},
          "output_type": "display_data"
        },
        {
          "data": {
            "application/javascript": [
              "gtag('event', 'transcribeComplete', {\"event_category\": \"ismir2021\", \"value\": 48});"
            ],
            "text/plain": [
              "<IPython.core.display.Javascript object>"
            ]
          },
          "metadata": {},
          "output_type": "display_data"
        },
        {
          "metadata": {
            "tags": null
          },
          "name": "stdout",
          "output_type": "stream",
          "text": [
            "Processed yty4_1.wav to OMAPS2/evaluation/MT3-piano/yty4_1.mid\n"
          ]
        },
        {
          "data": {
            "text/html": [
              "\n",
              "<!-- Global site tag (gtag.js) - Google Analytics -->\n",
              "<script async src=\"https://www.googletagmanager.com/gtag/js?id=G-4P250YRJ08\"></script>\n",
              "<script>\n",
              "  window.dataLayer = window.dataLayer || [];\n",
              "  function gtag(){dataLayer.push(arguments);}\n",
              "  gtag('js', new Date());\n",
              "  gtag('config', 'G-4P250YRJ08',\n",
              "       {'referrer': document.referrer.split('?')[0],\n",
              "        'anonymize_ip': true,\n",
              "        'page_title': '',\n",
              "        'page_referrer': '',\n",
              "        'cookie_prefix': 'magenta',\n",
              "        'cookie_domain': 'auto',\n",
              "        'cookie_expires': 0,\n",
              "        'cookie_flags': 'SameSite=None;Secure'});\n",
              "</script>\n"
            ],
            "text/plain": [
              "<IPython.core.display.HTML object>"
            ]
          },
          "metadata": {},
          "output_type": "display_data"
        },
        {
          "data": {
            "application/javascript": [
              "gtag('event', 'uploadAudioComplete', {\"value\": 98});"
            ],
            "text/plain": [
              "<IPython.core.display.Javascript object>"
            ]
          },
          "metadata": {},
          "output_type": "display_data"
        },
        {
          "data": {
            "application/javascript": [
              "gtag('event', 'transcribeStart', {\"event_category\": \"ismir2021\", \"value\": 98});"
            ],
            "text/plain": [
              "<IPython.core.display.Javascript object>"
            ]
          },
          "metadata": {},
          "output_type": "display_data"
        },
        {
          "data": {
            "application/javascript": [
              "gtag('event', 'transcribeComplete', {\"event_category\": \"ismir2021\", \"value\": 98});"
            ],
            "text/plain": [
              "<IPython.core.display.Javascript object>"
            ]
          },
          "metadata": {},
          "output_type": "display_data"
        },
        {
          "metadata": {
            "tags": null
          },
          "name": "stdout",
          "output_type": "stream",
          "text": [
            "Processed yty4_2.wav to OMAPS2/evaluation/MT3-piano/yty4_2.mid\n"
          ]
        },
        {
          "data": {
            "text/html": [
              "\n",
              "<!-- Global site tag (gtag.js) - Google Analytics -->\n",
              "<script async src=\"https://www.googletagmanager.com/gtag/js?id=G-4P250YRJ08\"></script>\n",
              "<script>\n",
              "  window.dataLayer = window.dataLayer || [];\n",
              "  function gtag(){dataLayer.push(arguments);}\n",
              "  gtag('js', new Date());\n",
              "  gtag('config', 'G-4P250YRJ08',\n",
              "       {'referrer': document.referrer.split('?')[0],\n",
              "        'anonymize_ip': true,\n",
              "        'page_title': '',\n",
              "        'page_referrer': '',\n",
              "        'cookie_prefix': 'magenta',\n",
              "        'cookie_domain': 'auto',\n",
              "        'cookie_expires': 0,\n",
              "        'cookie_flags': 'SameSite=None;Secure'});\n",
              "</script>\n"
            ],
            "text/plain": [
              "<IPython.core.display.HTML object>"
            ]
          },
          "metadata": {},
          "output_type": "display_data"
        },
        {
          "data": {
            "application/javascript": [
              "gtag('event', 'uploadAudioComplete', {\"value\": 116});"
            ],
            "text/plain": [
              "<IPython.core.display.Javascript object>"
            ]
          },
          "metadata": {},
          "output_type": "display_data"
        },
        {
          "data": {
            "application/javascript": [
              "gtag('event', 'transcribeStart', {\"event_category\": \"ismir2021\", \"value\": 116});"
            ],
            "text/plain": [
              "<IPython.core.display.Javascript object>"
            ]
          },
          "metadata": {},
          "output_type": "display_data"
        },
        {
          "data": {
            "application/javascript": [
              "gtag('event', 'transcribeComplete', {\"event_category\": \"ismir2021\", \"value\": 116});"
            ],
            "text/plain": [
              "<IPython.core.display.Javascript object>"
            ]
          },
          "metadata": {},
          "output_type": "display_data"
        },
        {
          "metadata": {
            "tags": null
          },
          "name": "stdout",
          "output_type": "stream",
          "text": [
            "Processed yty4_3.wav to OMAPS2/evaluation/MT3-piano/yty4_3.mid\n"
          ]
        },
        {
          "data": {
            "text/html": [
              "\n",
              "<!-- Global site tag (gtag.js) - Google Analytics -->\n",
              "<script async src=\"https://www.googletagmanager.com/gtag/js?id=G-4P250YRJ08\"></script>\n",
              "<script>\n",
              "  window.dataLayer = window.dataLayer || [];\n",
              "  function gtag(){dataLayer.push(arguments);}\n",
              "  gtag('js', new Date());\n",
              "  gtag('config', 'G-4P250YRJ08',\n",
              "       {'referrer': document.referrer.split('?')[0],\n",
              "        'anonymize_ip': true,\n",
              "        'page_title': '',\n",
              "        'page_referrer': '',\n",
              "        'cookie_prefix': 'magenta',\n",
              "        'cookie_domain': 'auto',\n",
              "        'cookie_expires': 0,\n",
              "        'cookie_flags': 'SameSite=None;Secure'});\n",
              "</script>\n"
            ],
            "text/plain": [
              "<IPython.core.display.HTML object>"
            ]
          },
          "metadata": {},
          "output_type": "display_data"
        },
        {
          "data": {
            "application/javascript": [
              "gtag('event', 'uploadAudioComplete', {\"value\": 56});"
            ],
            "text/plain": [
              "<IPython.core.display.Javascript object>"
            ]
          },
          "metadata": {},
          "output_type": "display_data"
        },
        {
          "data": {
            "application/javascript": [
              "gtag('event', 'transcribeStart', {\"event_category\": \"ismir2021\", \"value\": 56});"
            ],
            "text/plain": [
              "<IPython.core.display.Javascript object>"
            ]
          },
          "metadata": {},
          "output_type": "display_data"
        },
        {
          "data": {
            "application/javascript": [
              "gtag('event', 'transcribeComplete', {\"event_category\": \"ismir2021\", \"value\": 56});"
            ],
            "text/plain": [
              "<IPython.core.display.Javascript object>"
            ]
          },
          "metadata": {},
          "output_type": "display_data"
        },
        {
          "metadata": {
            "tags": null
          },
          "name": "stdout",
          "output_type": "stream",
          "text": [
            "Processed yty4_5.wav to OMAPS2/evaluation/MT3-piano/yty4_5.mid\n"
          ]
        },
        {
          "data": {
            "text/html": [
              "\n",
              "<!-- Global site tag (gtag.js) - Google Analytics -->\n",
              "<script async src=\"https://www.googletagmanager.com/gtag/js?id=G-4P250YRJ08\"></script>\n",
              "<script>\n",
              "  window.dataLayer = window.dataLayer || [];\n",
              "  function gtag(){dataLayer.push(arguments);}\n",
              "  gtag('js', new Date());\n",
              "  gtag('config', 'G-4P250YRJ08',\n",
              "       {'referrer': document.referrer.split('?')[0],\n",
              "        'anonymize_ip': true,\n",
              "        'page_title': '',\n",
              "        'page_referrer': '',\n",
              "        'cookie_prefix': 'magenta',\n",
              "        'cookie_domain': 'auto',\n",
              "        'cookie_expires': 0,\n",
              "        'cookie_flags': 'SameSite=None;Secure'});\n",
              "</script>\n"
            ],
            "text/plain": [
              "<IPython.core.display.HTML object>"
            ]
          },
          "metadata": {},
          "output_type": "display_data"
        },
        {
          "data": {
            "application/javascript": [
              "gtag('event', 'uploadAudioComplete', {\"value\": 125});"
            ],
            "text/plain": [
              "<IPython.core.display.Javascript object>"
            ]
          },
          "metadata": {},
          "output_type": "display_data"
        },
        {
          "data": {
            "application/javascript": [
              "gtag('event', 'transcribeStart', {\"event_category\": \"ismir2021\", \"value\": 125});"
            ],
            "text/plain": [
              "<IPython.core.display.Javascript object>"
            ]
          },
          "metadata": {},
          "output_type": "display_data"
        },
        {
          "data": {
            "application/javascript": [
              "gtag('event', 'transcribeComplete', {\"event_category\": \"ismir2021\", \"value\": 125});"
            ],
            "text/plain": [
              "<IPython.core.display.Javascript object>"
            ]
          },
          "metadata": {},
          "output_type": "display_data"
        },
        {
          "metadata": {
            "tags": null
          },
          "name": "stdout",
          "output_type": "stream",
          "text": [
            "Processed yty5_1.wav to OMAPS2/evaluation/MT3-piano/yty5_1.mid\n"
          ]
        },
        {
          "data": {
            "text/html": [
              "\n",
              "<!-- Global site tag (gtag.js) - Google Analytics -->\n",
              "<script async src=\"https://www.googletagmanager.com/gtag/js?id=G-4P250YRJ08\"></script>\n",
              "<script>\n",
              "  window.dataLayer = window.dataLayer || [];\n",
              "  function gtag(){dataLayer.push(arguments);}\n",
              "  gtag('js', new Date());\n",
              "  gtag('config', 'G-4P250YRJ08',\n",
              "       {'referrer': document.referrer.split('?')[0],\n",
              "        'anonymize_ip': true,\n",
              "        'page_title': '',\n",
              "        'page_referrer': '',\n",
              "        'cookie_prefix': 'magenta',\n",
              "        'cookie_domain': 'auto',\n",
              "        'cookie_expires': 0,\n",
              "        'cookie_flags': 'SameSite=None;Secure'});\n",
              "</script>\n"
            ],
            "text/plain": [
              "<IPython.core.display.HTML object>"
            ]
          },
          "metadata": {},
          "output_type": "display_data"
        },
        {
          "data": {
            "application/javascript": [
              "gtag('event', 'uploadAudioComplete', {\"value\": 144});"
            ],
            "text/plain": [
              "<IPython.core.display.Javascript object>"
            ]
          },
          "metadata": {},
          "output_type": "display_data"
        },
        {
          "data": {
            "application/javascript": [
              "gtag('event', 'transcribeStart', {\"event_category\": \"ismir2021\", \"value\": 144});"
            ],
            "text/plain": [
              "<IPython.core.display.Javascript object>"
            ]
          },
          "metadata": {},
          "output_type": "display_data"
        },
        {
          "data": {
            "application/javascript": [
              "gtag('event', 'transcribeComplete', {\"event_category\": \"ismir2021\", \"value\": 144});"
            ],
            "text/plain": [
              "<IPython.core.display.Javascript object>"
            ]
          },
          "metadata": {},
          "output_type": "display_data"
        },
        {
          "metadata": {
            "tags": null
          },
          "name": "stdout",
          "output_type": "stream",
          "text": [
            "Processed yty4_4.wav to OMAPS2/evaluation/MT3-piano/yty4_4.mid\n"
          ]
        },
        {
          "data": {
            "text/html": [
              "\n",
              "<!-- Global site tag (gtag.js) - Google Analytics -->\n",
              "<script async src=\"https://www.googletagmanager.com/gtag/js?id=G-4P250YRJ08\"></script>\n",
              "<script>\n",
              "  window.dataLayer = window.dataLayer || [];\n",
              "  function gtag(){dataLayer.push(arguments);}\n",
              "  gtag('js', new Date());\n",
              "  gtag('config', 'G-4P250YRJ08',\n",
              "       {'referrer': document.referrer.split('?')[0],\n",
              "        'anonymize_ip': true,\n",
              "        'page_title': '',\n",
              "        'page_referrer': '',\n",
              "        'cookie_prefix': 'magenta',\n",
              "        'cookie_domain': 'auto',\n",
              "        'cookie_expires': 0,\n",
              "        'cookie_flags': 'SameSite=None;Secure'});\n",
              "</script>\n"
            ],
            "text/plain": [
              "<IPython.core.display.HTML object>"
            ]
          },
          "metadata": {},
          "output_type": "display_data"
        },
        {
          "data": {
            "application/javascript": [
              "gtag('event', 'uploadAudioComplete', {\"value\": 92});"
            ],
            "text/plain": [
              "<IPython.core.display.Javascript object>"
            ]
          },
          "metadata": {},
          "output_type": "display_data"
        },
        {
          "data": {
            "application/javascript": [
              "gtag('event', 'transcribeStart', {\"event_category\": \"ismir2021\", \"value\": 92});"
            ],
            "text/plain": [
              "<IPython.core.display.Javascript object>"
            ]
          },
          "metadata": {},
          "output_type": "display_data"
        },
        {
          "data": {
            "application/javascript": [
              "gtag('event', 'transcribeComplete', {\"event_category\": \"ismir2021\", \"value\": 92});"
            ],
            "text/plain": [
              "<IPython.core.display.Javascript object>"
            ]
          },
          "metadata": {},
          "output_type": "display_data"
        },
        {
          "metadata": {
            "tags": null
          },
          "name": "stdout",
          "output_type": "stream",
          "text": [
            "Processed yty5_2.wav to OMAPS2/evaluation/MT3-piano/yty5_2.mid\n"
          ]
        },
        {
          "data": {
            "text/html": [
              "\n",
              "<!-- Global site tag (gtag.js) - Google Analytics -->\n",
              "<script async src=\"https://www.googletagmanager.com/gtag/js?id=G-4P250YRJ08\"></script>\n",
              "<script>\n",
              "  window.dataLayer = window.dataLayer || [];\n",
              "  function gtag(){dataLayer.push(arguments);}\n",
              "  gtag('js', new Date());\n",
              "  gtag('config', 'G-4P250YRJ08',\n",
              "       {'referrer': document.referrer.split('?')[0],\n",
              "        'anonymize_ip': true,\n",
              "        'page_title': '',\n",
              "        'page_referrer': '',\n",
              "        'cookie_prefix': 'magenta',\n",
              "        'cookie_domain': 'auto',\n",
              "        'cookie_expires': 0,\n",
              "        'cookie_flags': 'SameSite=None;Secure'});\n",
              "</script>\n"
            ],
            "text/plain": [
              "<IPython.core.display.HTML object>"
            ]
          },
          "metadata": {},
          "output_type": "display_data"
        },
        {
          "data": {
            "application/javascript": [
              "gtag('event', 'uploadAudioComplete', {\"value\": 128});"
            ],
            "text/plain": [
              "<IPython.core.display.Javascript object>"
            ]
          },
          "metadata": {},
          "output_type": "display_data"
        },
        {
          "data": {
            "application/javascript": [
              "gtag('event', 'transcribeStart', {\"event_category\": \"ismir2021\", \"value\": 128});"
            ],
            "text/plain": [
              "<IPython.core.display.Javascript object>"
            ]
          },
          "metadata": {},
          "output_type": "display_data"
        },
        {
          "data": {
            "application/javascript": [
              "gtag('event', 'transcribeComplete', {\"event_category\": \"ismir2021\", \"value\": 128});"
            ],
            "text/plain": [
              "<IPython.core.display.Javascript object>"
            ]
          },
          "metadata": {},
          "output_type": "display_data"
        },
        {
          "metadata": {
            "tags": null
          },
          "name": "stdout",
          "output_type": "stream",
          "text": [
            "Processed yty5_3.wav to OMAPS2/evaluation/MT3-piano/yty5_3.mid\n"
          ]
        },
        {
          "data": {
            "text/html": [
              "\n",
              "<!-- Global site tag (gtag.js) - Google Analytics -->\n",
              "<script async src=\"https://www.googletagmanager.com/gtag/js?id=G-4P250YRJ08\"></script>\n",
              "<script>\n",
              "  window.dataLayer = window.dataLayer || [];\n",
              "  function gtag(){dataLayer.push(arguments);}\n",
              "  gtag('js', new Date());\n",
              "  gtag('config', 'G-4P250YRJ08',\n",
              "       {'referrer': document.referrer.split('?')[0],\n",
              "        'anonymize_ip': true,\n",
              "        'page_title': '',\n",
              "        'page_referrer': '',\n",
              "        'cookie_prefix': 'magenta',\n",
              "        'cookie_domain': 'auto',\n",
              "        'cookie_expires': 0,\n",
              "        'cookie_flags': 'SameSite=None;Secure'});\n",
              "</script>\n"
            ],
            "text/plain": [
              "<IPython.core.display.HTML object>"
            ]
          },
          "metadata": {},
          "output_type": "display_data"
        },
        {
          "data": {
            "application/javascript": [
              "gtag('event', 'uploadAudioComplete', {\"value\": 128});"
            ],
            "text/plain": [
              "<IPython.core.display.Javascript object>"
            ]
          },
          "metadata": {},
          "output_type": "display_data"
        },
        {
          "data": {
            "application/javascript": [
              "gtag('event', 'transcribeStart', {\"event_category\": \"ismir2021\", \"value\": 128});"
            ],
            "text/plain": [
              "<IPython.core.display.Javascript object>"
            ]
          },
          "metadata": {},
          "output_type": "display_data"
        },
        {
          "output_type": "display_data",
          "data": {
            "text/plain": [
              "<IPython.core.display.Javascript object>"
            ],
            "application/javascript": [
              "gtag('event', 'transcribeComplete', {\"event_category\": \"ismir2021\", \"value\": 128});"
            ]
          },
          "metadata": {}
        },
        {
          "output_type": "stream",
          "name": "stdout",
          "text": [
            "Processed yty5_4.wav to OMAPS2/evaluation/MT3-piano/yty5_4.mid\n"
          ]
        },
        {
          "output_type": "display_data",
          "data": {
            "text/plain": [
              "<IPython.core.display.HTML object>"
            ],
            "text/html": [
              "\n",
              "<!-- Global site tag (gtag.js) - Google Analytics -->\n",
              "<script async src=\"https://www.googletagmanager.com/gtag/js?id=G-4P250YRJ08\"></script>\n",
              "<script>\n",
              "  window.dataLayer = window.dataLayer || [];\n",
              "  function gtag(){dataLayer.push(arguments);}\n",
              "  gtag('js', new Date());\n",
              "  gtag('config', 'G-4P250YRJ08',\n",
              "       {'referrer': document.referrer.split('?')[0],\n",
              "        'anonymize_ip': true,\n",
              "        'page_title': '',\n",
              "        'page_referrer': '',\n",
              "        'cookie_prefix': 'magenta',\n",
              "        'cookie_domain': 'auto',\n",
              "        'cookie_expires': 0,\n",
              "        'cookie_flags': 'SameSite=None;Secure'});\n",
              "</script>\n"
            ]
          },
          "metadata": {}
        },
        {
          "output_type": "display_data",
          "data": {
            "text/plain": [
              "<IPython.core.display.Javascript object>"
            ],
            "application/javascript": [
              "gtag('event', 'uploadAudioComplete', {\"value\": 106});"
            ]
          },
          "metadata": {}
        },
        {
          "output_type": "display_data",
          "data": {
            "text/plain": [
              "<IPython.core.display.Javascript object>"
            ],
            "application/javascript": [
              "gtag('event', 'transcribeStart', {\"event_category\": \"ismir2021\", \"value\": 106});"
            ]
          },
          "metadata": {}
        },
        {
          "output_type": "display_data",
          "data": {
            "text/plain": [
              "<IPython.core.display.Javascript object>"
            ],
            "application/javascript": [
              "gtag('event', 'transcribeComplete', {\"event_category\": \"ismir2021\", \"value\": 106});"
            ]
          },
          "metadata": {}
        },
        {
          "output_type": "stream",
          "name": "stdout",
          "text": [
            "Processed yty5_5.wav to OMAPS2/evaluation/MT3-piano/yty5_5.mid\n",
            "DONE\n"
          ]
        }
      ],
      "source": [
        "from google.colab import drive\n",
        "drive.mount('/content/drive')\n",
        "\n",
        "import os\n",
        "from note_seq.protobuf import music_pb2\n",
        "\n",
        "os.chdir(\"/content/drive/MyDrive/Dissertation Code\")\n",
        "\n",
        "input_directory = \"OMAPS2/complete/wav_converted\"\n",
        "output_directory = \"OMAPS2/evaluation/MT3-piano\"\n",
        "\n",
        "os.makedirs(output_directory, exist_ok=True)\n",
        "\n",
        "\n",
        "\n",
        "# Iterate over each wav\n",
        "for filename in os.listdir(input_directory):\n",
        "    if filename.endswith(\".wav\"):\n",
        "\n",
        "        input_audio_path = os.path.join(input_directory, filename)\n",
        "        output_midi_path = os.path.join(output_directory, os.path.splitext(filename)[0] + \".mid\")\n",
        "\n",
        "        load_gtag()\n",
        "\n",
        "        audio, _ = librosa.load(input_audio_path, sr=SAMPLE_RATE)\n",
        "        log_event('uploadAudioComplete', {'value': round(len(audio) / SAMPLE_RATE)})\n",
        "\n",
        "        # Transcribe\n",
        "        log_event('transcribeStart', {'event_category': MODEL, 'value': round(len(audio) / SAMPLE_RATE)})\n",
        "        est_ns = inference_model(audio)\n",
        "        log_event('transcribeComplete', {\n",
        "            'event_category': MODEL,\n",
        "            'value': round(len(audio) / SAMPLE_RATE),\n",
        "            # Update logging details based on est_ns\n",
        "        })\n",
        "\n",
        "        # Assuming est_ns is a NoteSequence\n",
        "        note_seq.sequence_proto_to_midi_file(est_ns, output_midi_path)\n",
        "\n",
        "        print(f\"Processed {filename} to {output_midi_path}\")\n",
        "\n",
        "print(\"DONE\")\n",
        "\n",
        "\n",
        "\n",
        "#UPLOAD\n",
        "\n",
        "# load_gtag()\n",
        "\n",
        "# log_event('uploadAudioStart', {})\n",
        "# audio = upload_audio(sample_rate=SAMPLE_RATE)\n",
        "# log_event('uploadAudioComplete', {'value': round(len(audio) / SAMPLE_RATE)})\n",
        "\n",
        "# note_seq.notebook_utils.colab_play(audio, sample_rate=SAMPLE_RATE)\n",
        "\n",
        "#@title Transcribe Audio\n",
        "#@markdown This may take a few minutes depending on the length of the audio file\n",
        "#@markdown you uploaded.\n",
        "# TRANSCRIBE\n",
        "\n",
        "# load_gtag()\n",
        "\n",
        "# log_event('transcribeStart', {\n",
        "#     'event_category': MODEL,\n",
        "#     'value': round(len(audio) / SAMPLE_RATE)\n",
        "# })\n",
        "\n",
        "# est_ns = inference_model(audio)\n",
        "\n",
        "# log_event('transcribeComplete', {\n",
        "#     'event_category': MODEL,\n",
        "#     'value': round(len(audio) / SAMPLE_RATE),\n",
        "#     'numNotes': sum(1 for note in est_ns.notes if not note.is_drum),\n",
        "#     'numDrumNotes': sum(1 for note in est_ns.notes if note.is_drum),\n",
        "#     'numPrograms': len(set(note.program for note in est_ns.notes\n",
        "#                            if not note.is_drum))\n",
        "# })\n",
        "\n",
        "# note_seq.play_sequence(est_ns, synth=note_seq.fluidsynth,\n",
        "#                        sample_rate=SAMPLE_RATE, sf2_path=SF2_PATH)\n",
        "# #note_seq.plot_sequence(est_ns)\n",
        "\n",
        "# #@title Download MIDI Transcription\n",
        "\n",
        "\n",
        "# # DOWNLOAD\n",
        "# load_gtag()\n",
        "# log_event('downloadTranscription', {\n",
        "#     'event_category': MODEL,\n",
        "#     'value': round(len(audio) / SAMPLE_RATE),\n",
        "#     'numNotes': sum(1 for note in est_ns.notes if not note.is_drum),\n",
        "#     'numDrumNotes': sum(1 for note in est_ns.notes if note.is_drum),\n",
        "#     'numPrograms': len(set(note.program for note in est_ns.notes\n",
        "#                            if not note.is_drum))\n",
        "# })\n",
        "\n",
        "# note_seq.sequence_proto_to_midi_file(est_ns, '/tmp/transcribed.mid')\n",
        "# files.download('/tmp/transcribed.mid')"
      ]
    },
    {
      "cell_type": "code",
      "execution_count": null,
      "metadata": {
        "id": "HSKNjUYYv1kV"
      },
      "outputs": [],
      "source": []
    },
    {
      "cell_type": "code",
      "execution_count": null,
      "metadata": {
        "id": "-DiCjtDpyUMh"
      },
      "outputs": [],
      "source": []
    },
    {
      "cell_type": "code",
      "source": [],
      "metadata": {
        "id": "tGdmRJRNd_-o"
      },
      "execution_count": null,
      "outputs": []
    },
    {
      "cell_type": "code",
      "source": [],
      "metadata": {
        "id": "NCtDjeIOe5G1"
      },
      "execution_count": null,
      "outputs": []
    }
  ],
  "metadata": {
    "accelerator": "GPU",
    "colab": {
      "provenance": [],
      "gpuType": "T4"
    },
    "kernelspec": {
      "display_name": "Python 3",
      "name": "python3"
    }
  },
  "nbformat": 4,
  "nbformat_minor": 0
}